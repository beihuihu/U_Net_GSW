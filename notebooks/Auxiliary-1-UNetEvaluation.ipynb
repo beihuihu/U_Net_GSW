{
 "cells": [
  {
   "cell_type": "markdown",
   "metadata": {},
   "source": [
    "  Author: Ankit Kariryaa, University of Bremen\n",
    "  \n",
    "  Modified by Xuehui Pi and Qiuqi Luo\n",
    "\n"
   ]
  },
  {
   "cell_type": "code",
   "execution_count": 1,
   "metadata": {},
   "outputs": [
    {
     "name": "stderr",
     "output_type": "stream",
     "text": [
      "C:\\Users\\ASUS\\anaconda3\\envs\\tf_gpu\\lib\\site-packages\\tensorflow\\python\\keras\\optimizer_v2\\optimizer_v2.py:374: UserWarning: The `lr` argument is deprecated, use `learning_rate` instead.\n",
      "  warnings.warn(\n"
     ]
    },
    {
     "name": "stdout",
     "output_type": "stream",
     "text": [
      "2.5.0-rc3\n"
     ]
    }
   ],
   "source": [
    "from tensorflow.keras.models import load_model\n",
    "import numpy as np               # numerical array manipulation\n",
    "import pandas as pd\n",
    "import geopandas as gps\n",
    "import os\n",
    "import time\n",
    "from collections import defaultdict\n",
    "from functools import reduce\n",
    "from PIL import Image\n",
    "import rasterio                  # I/O raster data (netcdf, height, geotiff, ...)\n",
    "import rasterio.warp             # Reproject raster samples\n",
    "from shapely.geometry import Point, Polygon\n",
    "from shapely.geometry import mapping, shape\n",
    "import fiona\n",
    "import cv2\n",
    "from tqdm import tqdm\n",
    "import rasterio.mask\n",
    "import affine\n",
    "\n",
    "from core.UNet import UNet\n",
    "from core.losses import tversky, accuracy, dice_coef, dice_loss, recall,precision,IoU\n",
    "from core.optimizers import adaDelta, adagrad, adam, nadam\n",
    "from core.frame_info_evaluate import FrameInfo\n",
    "from core.dataset_generator import DataGenerator\n",
    "from core.split_frames import split_dataset1,split_dataset2,split_dataset3,split_dataset4#,split_dataset5\n",
    "from core.visualize import display_images\n",
    "\n",
    "%matplotlib inline\n",
    "import matplotlib.pyplot as plt  # plotting tools\n",
    "import matplotlib.patches as patches\n",
    "\n",
    "import warnings                  # ignore annoying warnings\n",
    "warnings.filterwarnings(\"ignore\")\n",
    "import logging\n",
    "logger = logging.getLogger()\n",
    "logger.setLevel(logging.CRITICAL)\n",
    "\n",
    "%reload_ext autoreload\n",
    "%autoreload 2\n",
    "from IPython.core.interactiveshell import InteractiveShell\n",
    "InteractiveShell.ast_node_interactivity = \"all\"\n",
    "\n",
    "os.environ['TF_ENABLE_AUTO_MIXED_PRECISION'] = '1'\n",
    "\n",
    "import tensorflow as tf\n",
    "print(tf.__version__)"
   ]
  },
  {
   "cell_type": "code",
   "execution_count": 2,
   "metadata": {},
   "outputs": [],
   "source": [
    "from tensorflow.compat.v1 import ConfigProto\n",
    "from tensorflow.compat.v1 import InteractiveSession\n",
    "\n",
    "config = ConfigProto(\n",
    "    #device_count={\"CPU\": 64},\n",
    "    allow_soft_placement=True, \n",
    "    log_device_placement=False)\n",
    "config.gpu_options.allow_growth = True\n",
    "session = InteractiveSession(config=config)"
   ]
  },
  {
   "cell_type": "code",
   "execution_count": 26,
   "metadata": {},
   "outputs": [],
   "source": [
    "# Initialize the data related variables used in the notebook \n",
    "\n",
    "# For reading the GSW and annotated images generated in the step - 1\n",
    "\n",
    "base_dir =r'G:\\U-Net\\U-Net'\n",
    "auxiliary_data_dir = ''\n",
    "\n",
    "# The Normal model was consisted of type 1, 2, 3, and 4, while the Floodplain Model was made up of types 1, 3, 4, and 5.\n",
    "path_to_write1 = os.path.join(base_dir,'output\\output1')\n",
    "path_to_write2 = os.path.join(base_dir,'output\\output2')\n",
    "path_to_write3 = os.path.join(base_dir,'output\\output3')\n",
    "path_to_write4 = os.path.join(base_dir,'output\\output4')\n",
    "# path_to_write5 = os.path.join(base_dir,'output\\output5')\n",
    "\n",
    "image_type = '.png'\n",
    "GSW_fn = 'occurrence'\n",
    "annotation_fn = 'annotation'\n",
    "\n",
    "# For testing, images are divided into sequential patches \n",
    "patch_generation_stratergy = 'random'\n",
    "patch_size = (512,512,2) ## Height * Width * (Input or Output) channels：[GSW, ANNOTATION]\n",
    "BATCH_SIZE = 16 # Model is evaluated in batches; See https://keras.io/models/model/\n",
    "\n",
    "# # When stratergy == sequential\n",
    "step_size = (512,512)\n",
    "\n",
    "\n",
    "patch_dir = os.path.join(base_dir, 'patches_copy'.format(patch_size[0])) \n",
    "frames_json1 = os.path.join(patch_dir,'frames_list1.json') \n",
    "frames_json2 = os.path.join(patch_dir,'frames_list2.json')\n",
    "frames_json3 = os.path.join(patch_dir,'frames_list3.json')\n",
    "frames_json4 = os.path.join(patch_dir,'frames_list4.json')\n",
    "# frames_json5 = os.path.join(patch_dir,'frames_list5.json')\n",
    "\n",
    "input_shape = (512,512,1)\n",
    "input_image_channel = [0]\n",
    "input_label_channel = [1]\n",
    "\n",
    "# OPTIMIZER = adaDelta \n",
    "# OPTIMIZER=tf.train.experimental.enable_mixed_precision_graph_rewrite(OPTIMIZER)\n",
    "# LOSS = tversky\n",
    "\n",
    "# #Only for the name of the model in the very end\n",
    "# OPTIMIZER_NAME = 'adaDelta'\n",
    "# LOSS_NAME = 'tversky'\n",
    "modelToEvaluate = os.path.join(base_dir, r'saved_models\\UNet\\lakes_20230622-0246_AdaDelta_tversky_01_512.h5') "
   ]
  },
  {
   "cell_type": "code",
   "execution_count": 6,
   "metadata": {},
   "outputs": [
    {
     "name": "stdout",
     "output_type": "stream",
     "text": [
      "G:\\U-Net\\U-Net\\evaluationreport\\evaluation_per_pixel20230622-0902_01.csv\n"
     ]
    }
   ],
   "source": [
    "#File path for final report \n",
    "timestr = time.strftime(\"%Y%m%d-%H%M\")\n",
    "chf = input_image_channel + input_label_channel\n",
    "chs = reduce(lambda a,b: a+str(b),   chf, '')\n",
    "evaluation_report_path = model_path =  os.path.join(base_dir, 'evaluationreport') \n",
    "if not os.path.exists(evaluation_report_path):\n",
    "    os.makedirs(evaluation_report_path)\n",
    "evaluation_report_filename = os.path.join(evaluation_report_path,'evaluation_per_pixel{}_{}.csv'.format(timestr,chs))\n",
    "print(evaluation_report_filename) "
   ]
  },
  {
   "cell_type": "code",
   "execution_count": 7,
   "metadata": {
    "tags": []
   },
   "outputs": [
    {
     "data": {
      "text/plain": [
       "177"
      ]
     },
     "execution_count": 7,
     "metadata": {},
     "output_type": "execute_result"
    },
    {
     "name": "stdout",
     "output_type": "stream",
     "text": [
      "['occurrence_0.png', 'occurrence_10.png', 'occurrence_100.png', 'occurrence_1008.png', 'occurrence_1016.png', 'occurrence_1099.png', 'occurrence_1101.png', 'occurrence_1103.png', 'occurrence_1109.png', 'occurrence_1121.png', 'occurrence_115.png', 'occurrence_1166.png', 'occurrence_1168.png', 'occurrence_1188.png', 'occurrence_1190.png', 'occurrence_1192.png', 'occurrence_1194.png', 'occurrence_1202.png', 'occurrence_1212.png', 'occurrence_1226.png', 'occurrence_1236.png', 'occurrence_1238.png', 'occurrence_1250.png', 'occurrence_127.png', 'occurrence_128.png', 'occurrence_1280.png', 'occurrence_1288.png', 'occurrence_130.png', 'occurrence_1300.png', 'occurrence_1308.png', 'occurrence_1312.png', 'occurrence_1314.png', 'occurrence_1356.png', 'occurrence_136.png', 'occurrence_1368.png', 'occurrence_1372.png', 'occurrence_1397.png', 'occurrence_1399.png', 'occurrence_14.png', 'occurrence_1401.png', 'occurrence_1405.png', 'occurrence_1411.png', 'occurrence_1413.png', 'occurrence_1419.png', 'occurrence_1453.png', 'occurrence_1462.png', 'occurrence_1472.png', 'occurrence_1476.png', 'occurrence_1480.png', 'occurrence_1495.png', 'occurrence_1501.png', 'occurrence_1515.png', 'occurrence_1519.png', 'occurrence_1528.png', 'occurrence_1536.png', 'occurrence_159.png', 'occurrence_16.png', 'occurrence_160.png', 'occurrence_2.png', 'occurrence_202.png', 'occurrence_204.png', 'occurrence_222.png', 'occurrence_224.png', 'occurrence_226.png', 'occurrence_228.png', 'occurrence_286.png', 'occurrence_299.png', 'occurrence_306.png', 'occurrence_308.png', 'occurrence_312.png', 'occurrence_316.png', 'occurrence_32.png', 'occurrence_320.png', 'occurrence_324.png', 'occurrence_326.png', 'occurrence_331.png', 'occurrence_333.png', 'occurrence_335.png', 'occurrence_337.png', 'occurrence_345.png', 'occurrence_347.png', 'occurrence_36.png', 'occurrence_360.png', 'occurrence_364.png', 'occurrence_374.png', 'occurrence_38.png', 'occurrence_380.png', 'occurrence_390.png', 'occurrence_398.png', 'occurrence_4.png', 'occurrence_416.png', 'occurrence_459.png', 'occurrence_467.png', 'occurrence_481.png', 'occurrence_483.png', 'occurrence_485.png', 'occurrence_491.png', 'occurrence_493.png', 'occurrence_497.png', 'occurrence_503.png', 'occurrence_505.png', 'occurrence_506.png', 'occurrence_516.png', 'occurrence_517.png', 'occurrence_519.png', 'occurrence_528.png', 'occurrence_530.png', 'occurrence_532.png', 'occurrence_534.png', 'occurrence_535.png', 'occurrence_537.png', 'occurrence_539.png', 'occurrence_542.png', 'occurrence_544.png', 'occurrence_548.png', 'occurrence_550.png', 'occurrence_554.png', 'occurrence_566.png', 'occurrence_568.png', 'occurrence_577.png', 'occurrence_581.png', 'occurrence_583.png', 'occurrence_584.png', 'occurrence_6.png', 'occurrence_629.png', 'occurrence_637.png', 'occurrence_641.png', 'occurrence_643.png', 'occurrence_645.png', 'occurrence_653.png', 'occurrence_654.png', 'occurrence_656.png', 'occurrence_658.png', 'occurrence_660.png', 'occurrence_664.png', 'occurrence_666.png', 'occurrence_668.png', 'occurrence_670.png', 'occurrence_671.png', 'occurrence_675.png', 'occurrence_679.png', 'occurrence_687.png', 'occurrence_689.png', 'occurrence_691.png', 'occurrence_695.png', 'occurrence_697.png', 'occurrence_701.png', 'occurrence_709.png', 'occurrence_715.png', 'occurrence_717.png', 'occurrence_721.png', 'occurrence_727.png', 'occurrence_729.png', 'occurrence_733.png', 'occurrence_737.png', 'occurrence_753.png', 'occurrence_755.png', 'occurrence_759.png', 'occurrence_775.png', 'occurrence_796.png', 'occurrence_798.png', 'occurrence_8.png', 'occurrence_804.png', 'occurrence_829.png', 'occurrence_841.png', 'occurrence_855.png', 'occurrence_856.png', 'occurrence_862.png', 'occurrence_872.png', 'occurrence_873.png', 'occurrence_895.png', 'occurrence_927.png', 'occurrence_958.png', 'occurrence_960.png', 'occurrence_964.png', 'occurrence_970.png', 'occurrence_988.png']\n",
      "177\n",
      "Reading train-test split from file\n",
      "training_frames [90, 4, 76, 166, 89, 39, 110, 57, 68, 159, 19, 127, 40, 163, 137, 146, 162, 128, 173, 43, 82, 161, 169, 79, 164, 61, 88, 84, 143, 132, 48, 118, 116, 93, 49, 115, 126, 62, 123, 114, 83, 170, 56, 147, 157, 150, 5, 24, 38, 59, 130, 69, 136, 119, 87, 109, 139, 73, 104, 105, 29, 80, 23, 75, 36, 148, 95, 14, 165, 1, 97, 30, 50, 112, 6, 28, 171, 72, 176, 125, 21, 108, 77, 74, 172, 54, 35, 22, 141, 37, 155, 63, 70, 151, 134, 154, 32, 117, 120, 13, 44, 67, 92, 138, 142, 47, 113, 100, 153, 20, 167, 65]\n",
      "validation_frames [31, 144, 91, 121, 11, 103, 34, 156, 174, 152, 25, 122, 16, 94, 175, 3, 58, 17, 7, 15, 102, 133, 66, 85, 51, 41, 18, 78, 46]\n",
      "testing_frames [53, 8, 71, 10, 45, 158, 145, 42, 81, 9, 149, 64, 131, 12, 60, 55, 2, 26, 99, 129, 160, 107, 52, 111, 106, 135, 124, 33, 86, 101, 98, 96, 0, 168, 27, 140]\n"
     ]
    }
   ],
   "source": [
    "# Read all images/frames into memory  \n",
    "frames1 = []\n",
    "\n",
    "all_files = os.listdir(path_to_write1)\n",
    "all_files_GSW = [fn for fn in all_files if fn.startswith(GSW_fn) and fn.endswith(image_type)]\n",
    "len(all_files_GSW)\n",
    "print(all_files_GSW)\n",
    "for i, fn in enumerate(all_files_GSW):\n",
    "    GSW_img = rasterio.open(os.path.join(path_to_write1, fn))\n",
    "    read_GSW_img = GSW_img.read()\n",
    "    GSW_img_meta = GSW_img.meta\n",
    "    comb_img = np.transpose(read_GSW_img, axes=(1,2,0)) \n",
    "    \n",
    "    annotation_im = Image.open(os.path.join(path_to_write1, fn.replace(GSW_fn,annotation_fn)))\n",
    "    annotation = np.array(annotation_im)\n",
    "    f = FrameInfo(comb_img, annotation,GSW_img_meta)\n",
    "    frames1.append(f)\n",
    "print(len(frames1))\n",
    "    \n",
    "training_frames1, validation_frames1, testing_frames1  = split_dataset1(frames1, frames_json1, patch_dir)"
   ]
  },
  {
   "cell_type": "code",
   "execution_count": 8,
   "metadata": {
    "tags": []
   },
   "outputs": [
    {
     "data": {
      "text/plain": [
       "214"
      ]
     },
     "execution_count": 8,
     "metadata": {},
     "output_type": "execute_result"
    },
    {
     "name": "stdout",
     "output_type": "stream",
     "text": [
      "['occurrence_1000.png', 'occurrence_1002.png', 'occurrence_1004.png', 'occurrence_1006.png', 'occurrence_1018.png', 'occurrence_1020.png', 'occurrence_1022.png', 'occurrence_1024.png', 'occurrence_1044.png', 'occurrence_1046.png', 'occurrence_1048.png', 'occurrence_1056.png', 'occurrence_106.png', 'occurrence_1060.png', 'occurrence_1062.png', 'occurrence_1064.png', 'occurrence_1066.png', 'occurrence_1068.png', 'occurrence_107.png', 'occurrence_1070.png', 'occurrence_1072.png', 'occurrence_1073.png', 'occurrence_1077.png', 'occurrence_1079.png', 'occurrence_1085.png', 'occurrence_1089.png', 'occurrence_1093.png', 'occurrence_1095.png', 'occurrence_1097.png', 'occurrence_1105.png', 'occurrence_1113.png', 'occurrence_1115.png', 'occurrence_1117.png', 'occurrence_1119.png', 'occurrence_1127.png', 'occurrence_1141.png', 'occurrence_1143.png', 'occurrence_1153.png', 'occurrence_1155.png', 'occurrence_1162.png', 'occurrence_1164.png', 'occurrence_1170.png', 'occurrence_1172.png', 'occurrence_1174.png', 'occurrence_1176.png', 'occurrence_1178.png', 'occurrence_1180.png', 'occurrence_1182.png', 'occurrence_1186.png', 'occurrence_1196.png', 'occurrence_1200.png', 'occurrence_1204.png', 'occurrence_1206.png', 'occurrence_1208.png', 'occurrence_121.png', 'occurrence_1220.png', 'occurrence_1222.png', 'occurrence_1230.png', 'occurrence_1240.png', 'occurrence_1244.png', 'occurrence_1248.png', 'occurrence_1262.png', 'occurrence_1270.png', 'occurrence_1290.png', 'occurrence_1302.png', 'occurrence_1306.png', 'occurrence_1310.png', 'occurrence_1326.png', 'occurrence_1332.png', 'occurrence_1334.png', 'occurrence_1336.png', 'occurrence_1340.png', 'occurrence_1344.png', 'occurrence_1348.png', 'occurrence_1409.png', 'occurrence_1421.png', 'occurrence_1423.png', 'occurrence_1425.png', 'occurrence_1429.png', 'occurrence_1431.png', 'occurrence_1435.png', 'occurrence_1451.png', 'occurrence_146.png', 'occurrence_1466.png', 'occurrence_1478.png', 'occurrence_1482.png', 'occurrence_1497.png', 'occurrence_1503.png', 'occurrence_1505.png', 'occurrence_271.png', 'occurrence_28.png', 'occurrence_281.png', 'occurrence_292.png', 'occurrence_293.png', 'occurrence_30.png', 'occurrence_314.png', 'occurrence_34.png', 'occurrence_355.png', 'occurrence_362.png', 'occurrence_366.png', 'occurrence_372.png', 'occurrence_378.png', 'occurrence_382.png', 'occurrence_384.png', 'occurrence_386.png', 'occurrence_388.png', 'occurrence_392.png', 'occurrence_394.png', 'occurrence_396.png', 'occurrence_404.png', 'occurrence_406.png', 'occurrence_410.png', 'occurrence_418.png', 'occurrence_419.png', 'occurrence_421.png', 'occurrence_423.png', 'occurrence_425.png', 'occurrence_427.png', 'occurrence_429.png', 'occurrence_431.png', 'occurrence_433.png', 'occurrence_435.png', 'occurrence_436.png', 'occurrence_438.png', 'occurrence_440.png', 'occurrence_442.png', 'occurrence_444.png', 'occurrence_446.png', 'occurrence_457.png', 'occurrence_461.png', 'occurrence_465.png', 'occurrence_469.png', 'occurrence_479.png', 'occurrence_487.png', 'occurrence_489.png', 'occurrence_510.png', 'occurrence_512.png', 'occurrence_514.png', 'occurrence_552.png', 'occurrence_556.png', 'occurrence_562.png', 'occurrence_579.png', 'occurrence_588.png', 'occurrence_600.png', 'occurrence_601.png', 'occurrence_607.png', 'occurrence_608.png', 'occurrence_614.png', 'occurrence_625.png', 'occurrence_639.png', 'occurrence_647.png', 'occurrence_649.png', 'occurrence_65.png', 'occurrence_651.png', 'occurrence_66.png', 'occurrence_662.png', 'occurrence_711.png', 'occurrence_713.png', 'occurrence_741.png', 'occurrence_743.png', 'occurrence_745.png', 'occurrence_747.png', 'occurrence_749.png', 'occurrence_751.png', 'occurrence_757.png', 'occurrence_761.png', 'occurrence_763.png', 'occurrence_765.png', 'occurrence_767.png', 'occurrence_771.png', 'occurrence_802.png', 'occurrence_810.png', 'occurrence_812.png', 'occurrence_814.png', 'occurrence_818.png', 'occurrence_819.png', 'occurrence_839.png', 'occurrence_84.png', 'occurrence_845.png', 'occurrence_847.png', 'occurrence_858.png', 'occurrence_864.png', 'occurrence_866.png', 'occurrence_868.png', 'occurrence_870.png', 'occurrence_875.png', 'occurrence_877.png', 'occurrence_881.png', 'occurrence_883.png', 'occurrence_885.png', 'occurrence_889.png', 'occurrence_897.png', 'occurrence_907.png', 'occurrence_909.png', 'occurrence_911.png', 'occurrence_913.png', 'occurrence_921.png', 'occurrence_925.png', 'occurrence_929.png', 'occurrence_931.png', 'occurrence_933.png', 'occurrence_935.png', 'occurrence_939.png', 'occurrence_94.png', 'occurrence_941.png', 'occurrence_943.png', 'occurrence_949.png', 'occurrence_972.png', 'occurrence_974.png', 'occurrence_982.png', 'occurrence_984.png', 'occurrence_994.png', 'occurrence_996.png', 'occurrence_998.png']\n",
      "391\n",
      "Reading train-test split from file\n",
      "training_frames [313, 289, 228, 241, 338, 218, 196, 235, 316, 219, 247, 260, 191, 208, 244, 314, 342, 321, 302, 184, 357, 356, 277, 384, 389, 192, 317, 347, 197, 210, 270, 268, 280, 279, 209, 232, 252, 295, 249, 319, 298, 306, 223, 255, 351, 323, 207, 326, 242, 304, 224, 265, 358, 216, 188, 231, 325, 217, 236, 225, 256, 308, 324, 355, 329, 340, 183, 375, 378, 204, 201, 227, 363, 211, 278, 246, 284, 381, 199, 383, 315, 287, 370, 294, 202, 373, 275, 181, 276, 259, 332, 198, 365, 386, 385, 367, 331, 330, 359, 182, 337, 310, 388, 292, 193, 362, 186, 264, 243, 318, 301, 233, 239, 213, 251, 293, 281, 221, 307, 354, 364, 254, 290, 352, 257, 230, 350, 305, 328, 195, 220, 286, 344, 361, 366, 296]\n",
      "validation_frames [248, 327, 346, 234, 200, 312, 214, 309, 345, 371, 203, 245, 189, 303, 282, 250, 180, 269, 379, 263, 369, 339, 272, 377, 215, 348, 205, 390, 273, 341, 353, 322, 177, 333, 194]\n",
      "testing_frames [179, 299, 266, 311, 372, 320, 222, 237, 376, 229, 262, 178, 261, 297, 258, 291, 285, 274, 185, 334, 226, 190, 238, 374, 267, 240, 253, 360, 300, 343, 206, 349, 368, 382, 336, 212, 271, 288, 380, 283, 335, 387, 187]\n"
     ]
    }
   ],
   "source": [
    "frames2 = []\n",
    "\n",
    "all_files = os.listdir(path_to_write2)\n",
    "all_files_GSW = [fn for fn in all_files if fn.startswith(GSW_fn) and fn.endswith(image_type)]\n",
    "len(all_files_GSW)\n",
    "print(all_files_GSW)\n",
    "for i, fn in enumerate(all_files_GSW):\n",
    "    GSW_img = rasterio.open(os.path.join(path_to_write2, fn))\n",
    "    read_GSW_img = GSW_img.read()\n",
    "    GSW_img_meta = GSW_img.meta\n",
    "    comb_img = np.transpose(read_GSW_img, axes=(1,2,0))\n",
    "    \n",
    "    annotation_im = Image.open(os.path.join(path_to_write2, fn.replace(GSW_fn,annotation_fn)))\n",
    "    annotation = np.array(annotation_im)\n",
    "    f = FrameInfo(comb_img, annotation,GSW_img_meta)\n",
    "    frames2.append(f)\n",
    "\n",
    "frames_12=frames1+frames2\n",
    "print(len(frames_12))\n",
    "\n",
    "training_frames2, validation_frames2, testing_frames2  = split_dataset2(frames1,frames_12,frames_json2, patch_dir)"
   ]
  },
  {
   "cell_type": "code",
   "execution_count": 9,
   "metadata": {},
   "outputs": [
    {
     "data": {
      "text/plain": [
       "150"
      ]
     },
     "execution_count": 9,
     "metadata": {},
     "output_type": "execute_result"
    },
    {
     "name": "stdout",
     "output_type": "stream",
     "text": [
      "['occurrence_1034.png', 'occurrence_1050.png', 'occurrence_1052.png', 'occurrence_1081.png', 'occurrence_1087.png', 'occurrence_1091.png', 'occurrence_1107.png', 'occurrence_1123.png', 'occurrence_1125.png', 'occurrence_1129.png', 'occurrence_1145.png', 'occurrence_1151.png', 'occurrence_1184.png', 'occurrence_1214.png', 'occurrence_1216.png', 'occurrence_1218.png', 'occurrence_1224.png', 'occurrence_1242.png', 'occurrence_1268.png', 'occurrence_1284.png', 'occurrence_1286.png', 'occurrence_1294.png', 'occurrence_1298.png', 'occurrence_1304.png', 'occurrence_1316.png', 'occurrence_1318.png', 'occurrence_1324.png', 'occurrence_1328.png', 'occurrence_1338.png', 'occurrence_1342.png', 'occurrence_1346.png', 'occurrence_1350.png', 'occurrence_1352.png', 'occurrence_1354.png', 'occurrence_1362.png', 'occurrence_1391.png', 'occurrence_1417.png', 'occurrence_1427.png', 'occurrence_1437.png', 'occurrence_1438.png', 'occurrence_1440.png', 'occurrence_1442.png', 'occurrence_1444.png', 'occurrence_1446.png', 'occurrence_1447.png', 'occurrence_1449.png', 'occurrence_1468.png', 'occurrence_1493.png', 'occurrence_1499.png', 'occurrence_1517.png', 'occurrence_1530.png', 'occurrence_1532.png', 'occurrence_1540.png', 'occurrence_1541.png', 'occurrence_168.png', 'occurrence_186.png', 'occurrence_190.png', 'occurrence_200.png', 'occurrence_217.png', 'occurrence_218.png', 'occurrence_220.png', 'occurrence_24.png', 'occurrence_26.png', 'occurrence_318.png', 'occurrence_322.png', 'occurrence_328.png', 'occurrence_329.png', 'occurrence_341.png', 'occurrence_349.png', 'occurrence_351.png', 'occurrence_357.png', 'occurrence_358.png', 'occurrence_400.png', 'occurrence_402.png', 'occurrence_408.png', 'occurrence_412.png', 'occurrence_414.png', 'occurrence_43.png', 'occurrence_448.png', 'occurrence_450.png', 'occurrence_452.png', 'occurrence_453.png', 'occurrence_455.png', 'occurrence_463.png', 'occurrence_471.png', 'occurrence_472.png', 'occurrence_474.png', 'occurrence_476.png', 'occurrence_477.png', 'occurrence_49.png', 'occurrence_50.png', 'occurrence_501.png', 'occurrence_508.png', 'occurrence_52.png', 'occurrence_521.png', 'occurrence_523.png', 'occurrence_524.png', 'occurrence_560.png', 'occurrence_573.png', 'occurrence_590.png', 'occurrence_598.png', 'occurrence_603.png', 'occurrence_610.png', 'occurrence_616.png', 'occurrence_622.png', 'occurrence_623.png', 'occurrence_63.png', 'occurrence_673.png', 'occurrence_68.png', 'occurrence_683.png', 'occurrence_70.png', 'occurrence_707.png', 'occurrence_71.png', 'occurrence_719.png', 'occurrence_723.png', 'occurrence_725.png', 'occurrence_731.png', 'occurrence_735.png', 'occurrence_739.png', 'occurrence_769.png', 'occurrence_791.png', 'occurrence_792.png', 'occurrence_800.png', 'occurrence_816.png', 'occurrence_821.png', 'occurrence_823.png', 'occurrence_825.png', 'occurrence_827.png', 'occurrence_831.png', 'occurrence_849.png', 'occurrence_851.png', 'occurrence_860.png', 'occurrence_879.png', 'occurrence_887.png', 'occurrence_891.png', 'occurrence_893.png', 'occurrence_899.png', 'occurrence_901.png', 'occurrence_903.png', 'occurrence_905.png', 'occurrence_915.png', 'occurrence_917.png', 'occurrence_919.png', 'occurrence_923.png', 'occurrence_937.png', 'occurrence_951.png', 'occurrence_952.png', 'occurrence_976.png', 'occurrence_980.png', 'occurrence_992.png']\n",
      "541\n",
      "Reading train-test split from file\n",
      "training_frames [507, 540, 478, 417, 488, 427, 423, 509, 451, 524, 490, 398, 396, 510, 421, 464, 516, 437, 489, 468, 435, 395, 420, 444, 469, 515, 436, 482, 485, 535, 500, 496, 463, 481, 493, 536, 460, 430, 508, 401, 465, 404, 529, 442, 473, 539, 525, 483, 397, 446, 512, 425, 530, 434, 457, 394, 528, 461, 440, 479, 403, 532, 439, 406, 441, 400, 471, 514, 428, 433, 462, 409, 498, 497, 447, 504, 431, 424, 393, 491, 438, 418, 429, 405, 402, 527, 526, 459, 499, 445, 513, 480, 467, 506, 520, 458]\n",
      "validation_frames [416, 450, 426, 475, 484, 419, 523, 470, 422, 522, 453, 503, 518, 531, 519, 511, 501, 399, 452, 537, 477, 412, 432, 411]\n",
      "testing_frames [495, 472, 454, 392, 455, 448, 466, 492, 502, 476, 391, 474, 494, 533, 521, 517, 415, 534, 538, 410, 408, 505, 456, 449, 413, 487, 486, 443, 414, 407]\n"
     ]
    }
   ],
   "source": [
    "frames3 = []\n",
    "\n",
    "all_files = os.listdir(path_to_write3)\n",
    "all_files_GSW = [fn for fn in all_files if fn.startswith(GSW_fn) and fn.endswith(image_type)]\n",
    "len(all_files_GSW)\n",
    "print(all_files_GSW)\n",
    "for i, fn in enumerate(all_files_GSW):\n",
    "    GSW_img = rasterio.open(os.path.join(path_to_write3, fn))\n",
    "    read_GSW_img = GSW_img.read()\n",
    "    GSW_img_meta = GSW_img.meta\n",
    "    comb_img = np.transpose(read_GSW_img, axes=(1,2,0))\n",
    "    \n",
    "    annotation_im = Image.open(os.path.join(path_to_write3, fn.replace(GSW_fn,annotation_fn)))\n",
    "    annotation = np.array(annotation_im)\n",
    "    f = FrameInfo(comb_img, annotation,GSW_img_meta)\n",
    "    frames3.append(f)\n",
    "\n",
    "frames_123=frames1+frames2+frames3\n",
    "print(len(frames_123))\n",
    "\n",
    "training_frames3, validation_frames3, testing_frames3  = split_dataset3(frames_12,frames_123, frames_json3, patch_dir)"
   ]
  },
  {
   "cell_type": "code",
   "execution_count": 10,
   "metadata": {},
   "outputs": [
    {
     "data": {
      "text/plain": [
       "260"
      ]
     },
     "execution_count": 10,
     "metadata": {},
     "output_type": "execute_result"
    },
    {
     "name": "stdout",
     "output_type": "stream",
     "text": [
      "['occurrence_1010.png', 'occurrence_1012.png', 'occurrence_1014.png', 'occurrence_102.png', 'occurrence_1026.png', 'occurrence_1028.png', 'occurrence_1030.png', 'occurrence_1032.png', 'occurrence_1036.png', 'occurrence_1038.png', 'occurrence_104.png', 'occurrence_1040.png', 'occurrence_1042.png', 'occurrence_1054.png', 'occurrence_1058.png', 'occurrence_1075.png', 'occurrence_1083.png', 'occurrence_109.png', 'occurrence_111.png', 'occurrence_1111.png', 'occurrence_113.png', 'occurrence_1131.png', 'occurrence_1133.png', 'occurrence_1135.png', 'occurrence_1137.png', 'occurrence_1139.png', 'occurrence_1147.png', 'occurrence_1149.png', 'occurrence_1157.png', 'occurrence_1158.png', 'occurrence_1160.png', 'occurrence_117.png', 'occurrence_119.png', 'occurrence_1198.png', 'occurrence_12.png', 'occurrence_1210.png', 'occurrence_1228.png', 'occurrence_123.png', 'occurrence_1232.png', 'occurrence_1234.png', 'occurrence_1246.png', 'occurrence_125.png', 'occurrence_1252.png', 'occurrence_1254.png', 'occurrence_1256.png', 'occurrence_1258.png', 'occurrence_1260.png', 'occurrence_1264.png', 'occurrence_1266.png', 'occurrence_1272.png', 'occurrence_1274.png', 'occurrence_1276.png', 'occurrence_1278.png', 'occurrence_1282.png', 'occurrence_1292.png', 'occurrence_1296.png', 'occurrence_132.png', 'occurrence_1320.png', 'occurrence_1322.png', 'occurrence_1330.png', 'occurrence_134.png', 'occurrence_1358.png', 'occurrence_1360.png', 'occurrence_1364.png', 'occurrence_1366.png', 'occurrence_1370.png', 'occurrence_1374.png', 'occurrence_1376.png', 'occurrence_1378.png', 'occurrence_138.png', 'occurrence_1380.png', 'occurrence_1382.png', 'occurrence_1383.png', 'occurrence_1385.png', 'occurrence_1387.png', 'occurrence_1389.png', 'occurrence_1393.png', 'occurrence_1395.png', 'occurrence_140.png', 'occurrence_1403.png', 'occurrence_1407.png', 'occurrence_1415.png', 'occurrence_142.png', 'occurrence_1433.png', 'occurrence_144.png', 'occurrence_1455.png', 'occurrence_1456.png', 'occurrence_1458.png', 'occurrence_1460.png', 'occurrence_1464.png', 'occurrence_1470.png', 'occurrence_1474.png', 'occurrence_148.png', 'occurrence_1484.png', 'occurrence_1486.png', 'occurrence_1488.png', 'occurrence_1490.png', 'occurrence_1491.png', 'occurrence_150.png', 'occurrence_1507.png', 'occurrence_1509.png', 'occurrence_151.png', 'occurrence_1511.png', 'occurrence_1513.png', 'occurrence_1521.png', 'occurrence_1523.png', 'occurrence_1524.png', 'occurrence_1526.png', 'occurrence_153.png', 'occurrence_1534.png', 'occurrence_1538.png', 'occurrence_155.png', 'occurrence_157.png', 'occurrence_162.png', 'occurrence_164.png', 'occurrence_166.png', 'occurrence_170.png', 'occurrence_172.png', 'occurrence_174.png', 'occurrence_176.png', 'occurrence_178.png', 'occurrence_18.png', 'occurrence_180.png', 'occurrence_182.png', 'occurrence_184.png', 'occurrence_188.png', 'occurrence_192.png', 'occurrence_194.png', 'occurrence_196.png', 'occurrence_198.png', 'occurrence_20.png', 'occurrence_206.png', 'occurrence_208.png', 'occurrence_210.png', 'occurrence_211.png', 'occurrence_213.png', 'occurrence_215.png', 'occurrence_22.png', 'occurrence_230.png', 'occurrence_232.png', 'occurrence_234.png', 'occurrence_236.png', 'occurrence_238.png', 'occurrence_240.png', 'occurrence_242.png', 'occurrence_244.png', 'occurrence_246.png', 'occurrence_248.png', 'occurrence_250.png', 'occurrence_252.png', 'occurrence_254.png', 'occurrence_256.png', 'occurrence_258.png', 'occurrence_259.png', 'occurrence_261.png', 'occurrence_262.png', 'occurrence_264.png', 'occurrence_265.png', 'occurrence_267.png', 'occurrence_269.png', 'occurrence_273.png', 'occurrence_275.png', 'occurrence_277.png', 'occurrence_279.png', 'occurrence_283.png', 'occurrence_284.png', 'occurrence_288.png', 'occurrence_290.png', 'occurrence_295.png', 'occurrence_297.png', 'occurrence_301.png', 'occurrence_302.png', 'occurrence_303.png', 'occurrence_304.png', 'occurrence_305.png', 'occurrence_310.png', 'occurrence_339.png', 'occurrence_343.png', 'occurrence_353.png', 'occurrence_368.png', 'occurrence_370.png', 'occurrence_376.png', 'occurrence_40.png', 'occurrence_41.png', 'occurrence_45.png', 'occurrence_47.png', 'occurrence_495.png', 'occurrence_499.png', 'occurrence_526.png', 'occurrence_54.png', 'occurrence_541.png', 'occurrence_546.png', 'occurrence_55.png', 'occurrence_558.png', 'occurrence_564.png', 'occurrence_57.png', 'occurrence_570.png', 'occurrence_571.png', 'occurrence_575.png', 'occurrence_586.png', 'occurrence_59.png', 'occurrence_592.png', 'occurrence_594.png', 'occurrence_595.png', 'occurrence_596.png', 'occurrence_605.png', 'occurrence_61.png', 'occurrence_612.png', 'occurrence_618.png', 'occurrence_620.png', 'occurrence_627.png', 'occurrence_631.png', 'occurrence_633.png', 'occurrence_634.png', 'occurrence_636.png', 'occurrence_677.png', 'occurrence_681.png', 'occurrence_685.png', 'occurrence_693.png', 'occurrence_699.png', 'occurrence_703.png', 'occurrence_705.png', 'occurrence_73.png', 'occurrence_74.png', 'occurrence_76.png', 'occurrence_773.png', 'occurrence_777.png', 'occurrence_779.png', 'occurrence_78.png', 'occurrence_781.png', 'occurrence_783.png', 'occurrence_785.png', 'occurrence_787.png', 'occurrence_789.png', 'occurrence_794.png', 'occurrence_80.png', 'occurrence_806.png', 'occurrence_808.png', 'occurrence_82.png', 'occurrence_833.png', 'occurrence_835.png', 'occurrence_837.png', 'occurrence_843.png', 'occurrence_853.png', 'occurrence_86.png', 'occurrence_88.png', 'occurrence_90.png', 'occurrence_92.png', 'occurrence_945.png', 'occurrence_947.png', 'occurrence_954.png', 'occurrence_956.png', 'occurrence_96.png', 'occurrence_962.png', 'occurrence_966.png', 'occurrence_968.png', 'occurrence_978.png', 'occurrence_98.png', 'occurrence_986.png', 'occurrence_990.png']\n",
      "801\n",
      "Reading train-test split from file\n",
      "training_frames [794, 543, 560, 567, 669, 752, 541, 695, 561, 708, 738, 765, 551, 664, 657, 577, 800, 578, 574, 692, 610, 704, 549, 630, 595, 683, 641, 783, 622, 713, 581, 660, 580, 795, 776, 688, 631, 758, 645, 727, 681, 774, 637, 633, 638, 687, 679, 618, 773, 720, 686, 558, 609, 559, 796, 646, 550, 566, 628, 613, 556, 746, 764, 583, 772, 572, 694, 725, 732, 753, 548, 621, 627, 653, 591, 594, 617, 568, 706, 745, 652, 739, 719, 655, 792, 778, 596, 575, 605, 723, 721, 614, 571, 759, 632, 616, 615, 588, 737, 676, 587, 639, 787, 654, 755, 769, 735, 707, 760, 742, 562, 700, 761, 685, 697, 784, 717, 589, 635, 740, 698, 751, 754, 565, 718, 749, 799, 699, 790, 728, 710, 763, 648, 701, 730, 564, 629, 671, 744, 611, 670, 677, 626, 743, 599, 593, 563, 674, 726, 620, 636, 656, 779, 781, 553, 570, 782, 602, 762, 741, 650, 798, 712, 668, 775, 667]\n",
      "validation_frames [714, 552, 793, 702, 644, 573, 691, 607, 678, 592, 747, 582, 576, 662, 600, 649, 705, 663, 736, 734, 786, 665, 544, 689, 624, 642, 690, 625, 542, 623, 586, 666, 716, 777, 797, 546, 724, 619, 608, 579, 750, 601]\n",
      "testing_frames [634, 658, 651, 768, 766, 711, 547, 780, 661, 733, 748, 659, 767, 684, 703, 640, 791, 590, 557, 569, 555, 584, 788, 715, 604, 612, 647, 696, 709, 757, 785, 722, 771, 729, 672, 693, 585, 603, 545, 770, 598, 789, 643, 673, 606, 756, 554, 680, 731, 675, 597, 682]\n"
     ]
    }
   ],
   "source": [
    "frames4 = []\n",
    "\n",
    "all_files = os.listdir(path_to_write4)\n",
    "all_files_GSW = [fn for fn in all_files if fn.startswith(GSW_fn) and fn.endswith(image_type)]\n",
    "len(all_files_GSW)\n",
    "print(all_files_GSW)\n",
    "for i, fn in enumerate(all_files_GSW):\n",
    "    GSW_img = rasterio.open(os.path.join(path_to_write4, fn))\n",
    "    read_GSW_img = GSW_img.read()\n",
    "    GSW_img_meta = GSW_img.meta\n",
    "    comb_img = np.transpose(read_GSW_img, axes=(1,2,0)) \n",
    "    \n",
    "    annotation_im = Image.open(os.path.join(path_to_write4, fn.replace(GSW_fn,annotation_fn)))\n",
    "    annotation = np.array(annotation_im)\n",
    "    f = FrameInfo(comb_img, annotation,GSW_img_meta)\n",
    "    frames4.append(f)\n",
    "    \n",
    "frames_1234=frames1+frames2+frames3+frames4\n",
    "print(len(frames_1234))\n",
    "\n",
    "training_frames4, validation_frames4, testing_frames4  = split_dataset4(frames_123,frames_1234, frames_json4,patch_dir)"
   ]
  },
  {
   "cell_type": "code",
   "execution_count": 11,
   "metadata": {},
   "outputs": [
    {
     "name": "stdout",
     "output_type": "stream",
     "text": [
      "Total patches to evaluate the model on: 1474\n"
     ]
    }
   ],
   "source": [
    "# For testing on all frames. All sequential frames are kept in memory and this may create memory related errors in some cases. \n",
    "\n",
    "testing_frames=testing_frames1+testing_frames2+testing_frames3+testing_frames4\n",
    "annotation_channels = input_label_channel\n",
    "\n",
    "test_generator = DataGenerator(input_image_channel, patch_size, testing_frames, frames_1234, annotation_channels)\n",
    "# Sequential generate all patches from the all frames \n",
    "test_patches = test_generator.all_sequential_patches(step_size)#step_size = (512，512)   \n",
    "print('Total patches to evaluate the model on: ' + str(len(test_patches[0])))"
   ]
  },
  {
   "cell_type": "code",
   "execution_count": 12,
   "metadata": {},
   "outputs": [
    {
     "data": {
      "image/png": "[encoded data removed]",
      "text/plain": [
       "<Figure size 1008x2520 with 10 Axes>"
      ]
     },
     "metadata": {
      "needs_background": "light"
     },
     "output_type": "display_data"
    }
   ],
   "source": [
    "#Display the some of the test images\n",
    "numberOfImagesToDisplay = 5\n",
    "\n",
    "train_images, real_label = test_patches[0][:numberOfImagesToDisplay], test_patches[1][:numberOfImagesToDisplay]\n",
    "display_images(np.concatenate((train_images,real_label), axis = -1))"
   ]
  },
  {
   "cell_type": "code",
   "execution_count": 28,
   "metadata": {},
   "outputs": [
    {
     "name": "stdout",
     "output_type": "stream",
     "text": [
      "G:\\U-Net\\U-Net\\saved_models\\UNet\\lakes_20230622-0246_AdaDelta_tversky_01_512.h5 G:\\U-Net\\U-Net\\evaluationreport\\evaluation_per_pixel20230622-0902_01.csv\n",
      "Evaluating model now!\n",
      "47/47 [==============================] - 36s 598ms/step - loss: 0.0384 - dice_coef: 0.9519 - dice_loss: 0.0481 - accuracy: 0.9947 - recall: 0.9389 - precision: 0.9679 - IoU: 0.9549\n"
     ]
    }
   ],
   "source": [
    "#Evaluate model \n",
    "\n",
    "def evaluate_model(model_path, evaluation_report_filename):\n",
    "    print(model_path, evaluation_report_filename)\n",
    "    model = load_model(model_path, custom_objects={'tversky': tversky, 'dice_coef': dice_coef, 'dice_loss':dice_loss, 'accuracy':accuracy , 'recall':recall,'precision':precision,'IoU':IoU}, compile=False)\n",
    "\n",
    "    model.compile(optimizer=OPTIMIZER, loss=LOSS, metrics=[dice_coef, dice_loss, accuracy,recall,precision,IoU])\n",
    "    \n",
    "    print('Evaluating model now!')\n",
    "    ev = model.evaluate(x=test_patches[0], y=test_patches[1],  verbose=1, use_multiprocessing=False)\n",
    "    report  = dict(zip(model.metrics_names, ev))\n",
    "    report['model_path'] =  model_path   \n",
    "    report['test_frame_dir']= base_dir   \n",
    "    report['total_patch_count']= len(test_patches[0])  \n",
    "    return report\n",
    "\n",
    "report = evaluate_model(modelToEvaluate, evaluation_report_filename)"
   ]
  },
  {
   "cell_type": "code",
   "execution_count": null,
   "metadata": {
    "tags": []
   },
   "outputs": [],
   "source": [
    "# Show the model predictions! \n",
    "\n",
    "model = load_model(modelToEvaluate, custom_objects={'tversky': tversky, 'dice_coef': dice_coef, 'dice_loss':dice_loss, 'accuracy':accuracy ,'mIoU':mIoU, 'specificity': specificity, 'sensitivity':sensitivity}, compile=False)\n",
    "model.compile(optimizer=OPTIMIZER, loss=LOSS, metrics=[dice_coef, dice_loss, accuracy,mIoU, specificity, sensitivity])\n",
    "\n",
    "grwl_path = os.path.join(auxiliary_data_dir, 'GRWL') \n",
    "OSM_path =  os.path.join(auxiliary_data_dir, 'OSM_water') \n",
    "occurrence_eq0_path = os.path.join(auxiliary_data_dir, 'occurrence_eq0_sum.gdb')\n",
    "outpatches = os.path.join(base_dir, 'predictions_patches')\n",
    "if not os.path.exists(outpatches):\n",
    "    os.makedirs(outpatches)\n",
    "\n",
    "# load patch meta tempelate for further edition\n",
    "with rasterio.open(os.path.join(auxiliary_data_dir, 'occurrence/occurrence_0E10E_0N10N.tif')) as raster_template:\n",
    "    #print(raster_template.meta)\n",
    "    meta_template = raster_template.meta \n",
    "\n",
    "predictions, predictions_masked = [], []\n",
    "for i, tp in enumerate(test_patches[0]):\n",
    "    tpx = np.expand_dims(tp, axis=0)\n",
    "    modelpredtictions = model.predict(tpx, batch_size=BATCH_SIZE) # 1*512*512*1\n",
    "    modelpredtictions = np.squeeze(modelpredtictions, axis = 3) # 1*512*512\n",
    "#     print(modelpredtictions.shape)\n",
    "    \n",
    "    # save ndarray of pathces to tif\n",
    "    patch_lonlat_ul = test_patches[2][i]\n",
    "    patch_lon_left = patch_lonlat_ul[0]\n",
    "    patch_lat_up = patch_lonlat_ul[1]\n",
    "    patch_transform = affine.Affine(0.00025, 0.0, patch_lon_left, 0.0, -0.00025, patch_lat_up)\n",
    "    patch_meta = meta_template.copy()\n",
    "    patch_meta.update({\n",
    "              \"dtype\": 'float32',\n",
    "              \"height\": patch_size[0],\n",
    "              \"width\": patch_size[1],\n",
    "              \"transform\": patch_transform,\n",
    "              \"compress\": 'lzw'}) #\n",
    "#     print('patch_meta', patch_meta)\n",
    "    with rasterio.open(outpatches+'/patches_'+str(i)+'.tif', 'w', **patch_meta) as prediction_patch_dataset:\n",
    "        prediction_patch_dataset.write(modelpredtictions)\n",
    "    \n",
    "    # select all types of masks based on the pathces bbox\n",
    "    bbox = rasterio.transform.array_bounds(patch_meta['height'], patch_meta['width'], patch_transform)\n",
    "    grwl_dn255_patch = gps.read_file(grwl_path+'/GRWL_DN255.shp', bbox=bbox) # data from GRWL_mask_V01.01 product with DN = 255 (River) (see https://doi.org/10.5281/zenodo.1297434).\n",
    "    grwl_dn126_patch = gps.read_file(grwl_path+'/GRWL_DN126.shp', bbox=bbox) # data from GRWL_mask_V01.01 product with DN = 126 (Tidal rivers/delta) (see https://doi.org/10.5281/zenodo.1297434).\n",
    "    grwl_dn86_patch = gps.read_file(grwl_path+'/GRWL_DN86.shp', bbox=bbox) # data from GRWL_mask_V01.01 product with DN = 126 (Canal) (see https://doi.org/10.5281/zenodo.1297434).\n",
    "    OSM_patch = gps.read_file(OSM_path+'/mergeocean.shp', bbox=bbox) # data from OSMWL with gridcode = 1 (Ocean) (see http://hydro.iis.u-tokyo.ac.jp/~yamadai/OSM_water/index.html).\n",
    "    occurrence_eq0_patch = gps.read_file(occurrence_eq0_path, layer='occurrence_eq0', bbox=bbox) # data from GSWO with value = 0 (Land / Not water), available at https://global-surface-water.appspot.com.\n",
    "    mask_patch = grwl_dn255_patch.append(grwl_dn126_patch).append(grwl_dn86_patch).append(OSM_patch).append(occurrence_eq0_patch)\n",
    "    mask_patch_geojson = mask_patch.geometry.values \n",
    "    \n",
    "    # perform river mask and ocean mask\n",
    "    with rasterio.open(outpatches+'/patches_'+str(i)+'.tif', 'r') as prediction_patch_dataset:\n",
    "        if len(mask_patch_geojson) > 0:\n",
    "            modelpredtictions_masked, out_meta = rasterio.mask.mask(prediction_patch_dataset, mask_patch_geojson, all_touched=True, invert=True)\n",
    "            print(f'Mask finished: {i+1} / {len(test_patches[0])}')\n",
    "        else:\n",
    "            modelpredtictions_masked = modelpredtictions.copy()\n",
    "            print(f'No masks detected, output original image instead: {i+1} / {len(test_patches[0])}')\n",
    "    with rasterio.open(outpatches+'/patches_masked_'+str(i)+'.tif', \"w\", **patch_meta) as prediction_masked_patch_dataset:\n",
    "        prediction_masked_patch_dataset.write(modelpredtictions_masked)\n",
    "\n",
    "    predictions.append(np.transpose(modelpredtictions, axes=(1,2,0)))\n",
    "    predictions_masked.append(np.transpose(modelpredtictions_masked, axes=(1,2,0)))"
   ]
  },
  {
   "cell_type": "code",
   "execution_count": null,
   "metadata": {},
   "outputs": [],
   "source": [
    "# Transform Contours from image to world coordinates  \n",
    "def transform_contours_to_xy(contours, transform):\n",
    "    tp = []\n",
    "    for cnt in contours:\n",
    "        pl = cnt[:, 0, :]\n",
    "        cols, rows = zip(*pl)\n",
    "        x,y = rasterio.transform.xy(transform, rows, cols)\n",
    "        if not isinstance(x, list):\n",
    "            x = [x]\n",
    "            y = [y]\n",
    "        tl = [list(i) for i in zip(x, y)]\n",
    "        tp.append(tl)\n",
    "    return (tp)\n",
    "\n",
    "def mask_to_polygons(mask, transform,j,th = 0.5):\n",
    "    # first, find contours with cv2: it's much faster than shapely and returns hierarchy \n",
    "    mask[mask < th] = 0 \n",
    "    mask[mask >= th] = 1\n",
    "    mask = ((mask) * 255).astype(np.uint8)\n",
    "    contours, hierarchy = cv2.findContours(mask, cv2.RETR_CCOMP, cv2.CHAIN_APPROX_SIMPLE)\n",
    "\n",
    "    \n",
    "    #Convert contours from image coordinate to xy coordinate (world coordinates) \n",
    "    contours = transform_contours_to_xy(contours, transform)\n",
    "    \n",
    "    if contours:\n",
    "        print(f'Finish contours/polygons detected in: {j+1} / {len(test_patches[0])}')\n",
    "    else: #TODO: Raise an error maybe\n",
    "        print(f'No detected in: {j+1} / {len(test_patches[0])}')\n",
    "        return [Polygon()]\n",
    "    \n",
    "    # now messy stuff to associate parent and child contours \n",
    "    cnt_children = defaultdict(list)\n",
    "    child_contours = set()\n",
    "    assert hierarchy.shape[0] == 1\n",
    "    # http://docs.opencv.org/3.1.0/d9/d8b/tutorial_py_contours_hierarchy.html\n",
    "    for idx, (_, _, _, parent_idx) in enumerate(hierarchy[0]):\n",
    "        if parent_idx != -1:\n",
    "            child_contours.add(idx)\n",
    "            cnt_children[parent_idx].append(contours[idx])\n",
    "            '''for (key, value) in data:   result[key].append(value)'''\n",
    "            \n",
    "    # create actual polygons filtering by area/hole (removes artifacts)  \n",
    "    all_polygons = []\n",
    "#     min_area=100 #gt 0.03km2\n",
    "    for idx, cnt in enumerate(contours):\n",
    "        if idx not in child_contours: #and cv2.contourArea(cnt) >= min_area: #Do we need to check for min_area??\n",
    "            try:\n",
    "                poly = Polygon(\n",
    "                    shell=cnt,\n",
    "                    holes=[c for c in cnt_children.get(idx, []) ])\n",
    "                           #if cv2.contourArea(c) >= min_area]) #Do we need to check for min_area??\n",
    "#                     holes=[c for c in cnt_children.get(idx, []) if cv2.contourArea(c) >= min_area])\n",
    "                all_polygons.append(poly)\n",
    "            except Exception as e: \n",
    "#                 print(e)\n",
    "                pass   \n",
    "    #print(len(all_polygons))\n",
    "    return(all_polygons)\n",
    "    "
   ]
  },
  {
   "cell_type": "code",
   "execution_count": null,
   "metadata": {},
   "outputs": [],
   "source": [
    "import pyproj    \n",
    "import shapely\n",
    "import shapely.ops as ops\n",
    "\n",
    "def transform_to_meter_coordinate_system(geom):\n",
    "    # TODO: Remove the hard coded values\n",
    "    project = pyproj.Transformer.from_proj(\n",
    "        pyproj.Proj(init='epsg:4326'), # source coordinate system  \n",
    "        pyproj.Proj(init='epsg:8857')) # destination coordinate system   \n",
    "    gt = ops.transform(project.transform, geom)  # apply projection\n",
    "    return gt\n",
    "\n",
    "def ha_area(ha_polygons):\n",
    "    ts = 0\n",
    "    ha_polygons_meter = [transform_to_meter_coordinate_system(p) for p in ha_polygons]\n",
    "    for p in ha_polygons_meter:\n",
    "        if p.area > 0.03*(10**6):#minarea=0.015*10^6\n",
    "            ts += p.area\n",
    "    return ts\n",
    "\n",
    "def ha_area_polygons(ha_polygons):\n",
    "    polygons_number=0\n",
    "    ha_polygons_meter = [transform_to_meter_coordinate_system(p) for p in ha_polygons]\n",
    "    for p in ha_polygons_meter:\n",
    "        if p.area > 0.03*(10**6):#minarea=0.015*10^6\n",
    "            polygons_number =polygons_number+1\n",
    "#     area_polygonsnumber=np.concatenate([ts,polygons_number],axis=1)\n",
    "    return polygons_number"
   ]
  },
  {
   "cell_type": "code",
   "execution_count": null,
   "metadata": {
    "tags": []
   },
   "outputs": [],
   "source": [
    "# TODO: Remove the need for the a tiff file for transformation \n",
    "ha_prediction_polygons = []\n",
    "ha_label_polygons = []\n",
    "    \n",
    "ha_prediction_canopy_area = []\n",
    "ha_label_canopy_area = []\n",
    "\n",
    "for em, pred in enumerate(predictions_masked):\n",
    "    with rasterio.open(outpatches+'/patches_masked_'+str(em)+'.tif', \"r\") as raster_image:\n",
    "#         print(raster_image.meta)\n",
    "        transform = raster_image.meta['transform']\n",
    "#         print(transform)\n",
    "    ap = mask_to_polygons(pred, transform,em)\n",
    "#     print(ap)\n",
    "#     createShapefileObject(ap, raster_image.meta, outpatches,em)\n",
    "    ha_prediction_polygons.append(ap)\n",
    "#     ha_prediction_canopy_area.append(ha_area_from_mask(pred))\n",
    "    \n",
    "for i, lb in enumerate(test_patches[1][...,[0]]):\n",
    "    with rasterio.open(outpatches+'/patches_masked_'+str(i)+'.tif', \"r\") as raster_image:\n",
    "        #print(raster_image.meta)\n",
    "        transform = raster_image.meta['transform']\n",
    "            \n",
    "    ap = mask_to_polygons(lb, transform,i)#\n",
    "    ha_label_polygons.append(ap)\n",
    "# ha_label_canopy_area.append(ha_area_from_mask(lb))"
   ]
  },
  {
   "cell_type": "code",
   "execution_count": null,
   "metadata": {},
   "outputs": [],
   "source": [
    "ha_prediction_polygons_count = [len(hp) for hp in ha_prediction_polygons] \n",
    "ha_label_polygons_count = [len(hp) for hp in ha_label_polygons] \n",
    "\n",
    "# Alternate method to calcualte canopy area as a sum of area of trees  \n",
    "print('To calculate the area we convert the polygons to a coordinate system where unit is meters. This process is time consuming.')\n",
    "\n",
    "ha_prediction_canopy_area= list(map(ha_area, ha_prediction_polygons))\n",
    "ha_prediction_polygons_number=list(map(ha_area_polygons, ha_prediction_polygons))\n",
    "\n",
    "ha_label_canopy_area= list(map(ha_area, ha_label_polygons))\n",
    "ha_label_polygons_number=list(map(ha_area_polygons, ha_label_polygons))"
   ]
  },
  {
   "cell_type": "code",
   "execution_count": null,
   "metadata": {},
   "outputs": [],
   "source": [
    "from scipy.stats import pearsonr\n",
    "print(len(ha_prediction_polygons_number))\n",
    "ha_count_correlation = pearsonr(ha_prediction_polygons_number, ha_label_polygons_number)\n",
    "ha_area_correlation = pearsonr(ha_prediction_canopy_area, ha_label_canopy_area)\n",
    "\n",
    "print('Count correlation:' + str(ha_count_correlation))\n",
    "print('Area correlation:' + str(ha_area_correlation))\n"
   ]
  },
  {
   "cell_type": "code",
   "execution_count": 32,
   "metadata": {},
   "outputs": [
    {
     "name": "stdout",
     "output_type": "stream",
     "text": [
      "{'loss': 0.03835441544651985, 'dice_coef': 0.9519357085227966, 'dice_loss': 0.04805641993880272, 'accuracy': 0.9946967363357544, 'recall': 0.9388536214828491, 'precision': 0.9679042100906372, 'IoU': 0.9549177289009094, 'model_path': 'G:\\\\U-Net\\\\U-Net\\\\saved_models\\\\UNet\\\\lakes_20230622-0246_AdaDelta_tversky_01_512.h5', 'test_frame_dir': 'G:\\\\U-Net\\\\U-Net', 'total_patch_count': 1474}\n",
      "Index(['loss', 'dice_coef', 'dice_loss', 'accuracy', 'recall', 'precision',\n",
      "       'IoU', 'model_path', 'test_frame_dir', 'total_patch_count'],\n",
      "      dtype='object')\n"
     ]
    }
   ],
   "source": [
    "# Generate the final report\n",
    "# report['count_correlation'] =  ha_count_correlation[0]\n",
    "# report['count_correlation_tvalue'] =  ha_count_correlation[1]\n",
    "# report['area_correlation'] = ha_area_correlation[0]\n",
    "# report['area_correlation_tvalue'] =  ha_area_correlation[1]\n",
    "\n",
    "print(report)\n",
    "\n",
    "tdf = pd.DataFrame(report, index=[0])  \n",
    "print(tdf.columns)\n",
    "col_beginning = ['model_path','test_frame_dir', 'total_patch_count']\n",
    "\n",
    "col_rest = [x for x in tdf.columns.tolist() if x not in col_beginning]\n",
    "cols = col_beginning + col_rest\n",
    "tdf = tdf[cols]\n",
    "tdf.to_csv(evaluation_report_filename)"
   ]
  },
  {
   "cell_type": "code",
   "execution_count": null,
   "metadata": {},
   "outputs": [],
   "source": [
    "ha_label_canopy_area_km2 = [x/1e6 for x in ha_label_canopy_area]\n",
    "ha_prediction_canopy_area_km2 = [x/1e6 for x in ha_prediction_canopy_area]\n",
    "# print(ha_label_canopy_area_km2)"
   ]
  },
  {
   "cell_type": "code",
   "execution_count": null,
   "metadata": {
    "tags": []
   },
   "outputs": [],
   "source": [
    "from scipy import optimize\n",
    "from scipy import stats\n",
    "from sklearn.metrics import mean_squared_error\n",
    "from matplotlib.pyplot import MultipleLocator\n",
    "\n",
    "\n",
    "fig, ax = plt.subplots(1,1,figsize=(5,5),dpi=150) \n",
    "\n",
    "ax.plot((0, 1), (0, 1), transform=ax.transAxes, ls='--',c='k')\n",
    "\n",
    "\n",
    "plt.scatter(ha_label_polygons_number,ha_prediction_polygons_number,s=20,c='b',alpha=.4, marker='o')\n",
    "\n",
    "plt.tick_params(labelsize=10)\n",
    "labels = ax.get_xticklabels() + ax.get_yticklabels()\n",
    "[label.set_fontname('Times New Roman') for label in labels]\n",
    "\n",
    "\n",
    "res = stats.linregress(ha_label_polygons_number, ha_prediction_polygons_number) \n",
    "plt.plot(ha_label_polygons_number, res.intercept + res.slope*np.array(ha_label_polygons_number), 'r')\n",
    "RMSE = mean_squared_error(ha_label_polygons_number, ha_prediction_polygons_number, squared=False)#RMSE\n",
    "\n",
    "ax.text(5,75,f\"Slope: {res.slope:.3f}\\nR-squared: {res.rvalue**2:.3f}\\nRMSE: {RMSE:.3f}\\nPatch:{len(ha_label_canopy_area_km2)}\",fontproperties='Times New Roman')\n",
    "plt.xlabel('Label density',fontproperties='Times New Roman')    \n",
    "plt.ylabel('Prediction density',fontproperties='Times New Roman')  \n",
    "plt.show()"
   ]
  },
  {
   "cell_type": "code",
   "execution_count": null,
   "metadata": {},
   "outputs": [],
   "source": [
    "patch_polygonsnumber = pd.DataFrame({\n",
    "    'ha_label_polygons_number': ha_label_polygons_number,\n",
    "    'ha_prediction_polygons_number': ha_prediction_polygons_number,\n",
    "})\n",
    "patch_polygonsnumber.to_csv(os.path.join(evaluation_report_path, 'a_patch_polygonsnumber.csv')) "
   ]
  },
  {
   "cell_type": "code",
   "execution_count": null,
   "metadata": {
    "tags": []
   },
   "outputs": [],
   "source": [
    "from scipy import optimize\n",
    "from scipy import stats\n",
    "from sklearn.metrics import mean_squared_error\n",
    "%matplotlib inline\n",
    "from matplotlib.pyplot import MultipleLocator\n",
    "\n",
    "\n",
    "fig, ax = plt.subplots(1,1,figsize=(5,5),dpi=150) \n",
    "ax.plot((0, 1), (0, 1), transform=ax.transAxes, ls='--',c='k')\n",
    "\n",
    "plt.scatter(ha_label_canopy_area_km2,ha_prediction_canopy_area_km2,s=20,c='b',alpha=.4, marker='o')\n",
    "\n",
    "plt.tick_params(labelsize=10)\n",
    "labels = ax.get_xticklabels() + ax.get_yticklabels()\n",
    "[label.set_fontname('Times New Roman') for label in labels]\n",
    "\n",
    "\n",
    "res = stats.linregress(ha_label_canopy_area_km2, ha_prediction_canopy_area_km2) \n",
    "\n",
    "plt.plot(ha_label_canopy_area_km2, res.intercept + res.slope*np.array(ha_label_canopy_area_km2), 'r')\n",
    "RMSE = mean_squared_error(ha_label_canopy_area_km2, ha_prediction_canopy_area_km2, squared=False)#RMSE\n",
    "\n",
    "ax.text(5,60,f\"Slope: {res.slope:.3f}\\nR-squared: {res.rvalue**2:.3f}\\nRMSE: {RMSE:.3f}\\nPatch:{len(ha_label_canopy_area_km2)}\",fontproperties='Times New Roman')\n",
    "plt.xlabel('Label area (${km^2}$)',fontproperties='Times New Roman')    \n",
    "plt.ylabel('Prediction area (${km^2}$)',fontproperties='Times New Roman')  \n",
    "plt.show()"
   ]
  },
  {
   "cell_type": "code",
   "execution_count": null,
   "metadata": {},
   "outputs": [],
   "source": [
    "patch_area_df = pd.DataFrame({\n",
    "    'ha_label_canopy_area_km2': ha_label_canopy_area_km2,\n",
    "    'ha_prediction_canopy_area_km2': ha_prediction_canopy_area_km2,\n",
    "})\n",
    "patch_area_df.to_csv(os.path.join(evaluation_report_path, 'a_patch_area_km2.csv')) "
   ]
  },
  {
   "cell_type": "code",
   "execution_count": null,
   "metadata": {},
   "outputs": [],
   "source": []
  }
 ],
 "metadata": {
  "kernelspec": {
   "display_name": "tf_gpu",
   "language": "python",
   "name": "tf_gpu"
  },
  "language_info": {
   "codemirror_mode": {
    "name": "ipython",
    "version": 3
   },
   "file_extension": ".py",
   "mimetype": "text/x-python",
   "name": "python",
   "nbconvert_exporter": "python",
   "pygments_lexer": "ipython3",
   "version": "3.8.5"
  }
 },
 "nbformat": 4,
 "nbformat_minor": 4
}
