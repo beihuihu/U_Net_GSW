{
 "cells": [
  {
   "cell_type": "markdown",
   "metadata": {},
   "source": [
    "  Author: Ankit Kariryaa, University of Bremen\n",
    "  \n",
    "  Modified by Xuehui Pi and Qiuqi Luo"
   ]
  },
  {
   "cell_type": "markdown",
   "metadata": {},
   "source": [
    "### Getting started\n",
    "Define the paths for the dataset and trained models in the `notebooks/config/UNetTraining.py` file.  "
   ]
  },
  {
   "cell_type": "code",
   "execution_count": null,
   "metadata": {},
   "outputs": [],
   "source": [
    "import os\n",
    "os.environ[\"MKL_NUM_THREADS\"] = '16'\n",
    "os.environ[\"NUMEXPR_NUM_THREADS\"] = '16'\n",
    "os.environ[\"OMP_NUM_THREADS\"] = '16'\n",
    "print(os.environ.get('OMP_NUM_THREADS'))"
   ]
  },
  {
   "cell_type": "code",
   "execution_count": null,
   "metadata": {},
   "outputs": [],
   "source": [
    "import tensorflow as tf\n",
    "import numpy as np\n",
    "from PIL import Image\n",
    "import rasterio\n",
    "import imgaug as ia\n",
    "from imgaug import augmenters as iaa\n",
    "from tensorflow.keras.preprocessing.image import ImageDataGenerator\n",
    "\n",
    "import imageio\n",
    "import os\n",
    "\n",
    "import time\n",
    "import rasterio.warp             # Reproject raster samples\n",
    "from functools import reduce\n",
    "from tensorflow.keras.models import load_model\n",
    "\n",
    "from core.UNet import UNet  #\n",
    "from core.losses import tversky, accuracy, dice_coef, dice_loss, mIoU,specificity, sensitivity\n",
    "from core.optimizers import adaDelta, adagrad, adam, nadam\n",
    "from core.frame_info import FrameInfo\n",
    "from core.dataset_generator import DataGenerator\n",
    "from core.split_frames import split_dataset1,split_dataset2,split_dataset3,split_dataset4#,split_dataset5\n",
    "from core.visualize import display_images\n",
    "\n",
    "import json\n",
    "from sklearn.model_selection import train_test_split\n",
    "\n",
    "%matplotlib inline\n",
    "import matplotlib.pyplot as plt  # plotting tools\n",
    "import matplotlib.patches as patches\n",
    "from matplotlib.patches import Polygon\n",
    "#matplotlib.use(\"Agg\")\n",
    "\n",
    "import warnings                  # ignore annoying warnings\n",
    "warnings.filterwarnings(\"ignore\")\n",
    "import logging\n",
    "logger = logging.getLogger()\n",
    "logger.setLevel(logging.CRITICAL)\n",
    "\n",
    "%reload_ext autoreload\n",
    "%autoreload 2\n",
    "from IPython.core.interactiveshell import InteractiveShell\n",
    "InteractiveShell.ast_node_interactivity = \"all\"\n",
    "\n",
    "#Mixed precision is the use of both 16-bit and 32-bit floating-point types in a model during training to make it run faster and use less memory.\n",
    "os.environ['TF_ENABLE_AUTO_MIXED_PRECISION'] = '1'\n",
    "\n",
    "print(tf.__version__)"
   ]
  },
  {
   "cell_type": "code",
   "execution_count": null,
   "metadata": {},
   "outputs": [],
   "source": [
    "from tensorflow.compat.v1 import ConfigProto\n",
    "from tensorflow.compat.v1 import InteractiveSession\n",
    "\n",
    "config = ConfigProto(\n",
    "    #device_count={\"CPU\": 64},\n",
    "    allow_soft_placement=True, \n",
    "    log_device_placement=False)\n",
    "config.gpu_options.allow_growth = True\n",
    "session = InteractiveSession(config=config)"
   ]
  },
  {
   "cell_type": "code",
   "execution_count": null,
   "metadata": {},
   "outputs": [],
   "source": [
    "# Required configurations (including the input and output paths) are stored in a separate file (such as config/UNetTraining.py)\n",
    "# Please provide required info in the file before continuing with this notebook. \n",
    "from config import UNetTraining\n",
    "# In case you are using a different folder name such as configLargeCluster, then you should import from the respective folder \n",
    "# Eg. from configLargeCluster import UNetTraining\n",
    "config = UNetTraining.Configuration()"
   ]
  },
  {
   "cell_type": "code",
   "execution_count": null,
   "metadata": {},
   "outputs": [],
   "source": [
    "# Read all images/frames into memory \n",
    "frames1 = []\n",
    "\n",
    "all_files = os.listdir(config.path_to_write1)\n",
    "all_files_GSW = [fn for fn in all_files if fn.startswith(config.GSW_fn) and fn.endswith(config.image_type)]#occurrence.png\n",
    "len(all_files_GSW)\n",
    "print(all_files_GSW)\n",
    "for i, fn in enumerate(all_files_GSW):\n",
    "    GSW_img = rasterio.open(os.path.join(config.path_to_write1, fn))\n",
    "    read_GSW_img = GSW_img.read()\n",
    "    comb_img = np.transpose(read_GSW_img, axes=(1,2,0)) #Channel at the end  ( , ,1)\n",
    "    \n",
    "    annotation_im = Image.open(os.path.join(config.path_to_write1, fn.replace(config.GSW_fn,config.annotation_fn)))\n",
    "    annotation = np.array(annotation_im)\n",
    "    f = FrameInfo(comb_img, annotation)\n",
    "    frames1.append(f)\n",
    "print(len(frames1))\n",
    "    \n",
    "training_frames1, validation_frames1, testing_frames1  = split_dataset1(frames1, config.frames_json1, config.patch_dir)"
   ]
  },
  {
   "cell_type": "code",
   "execution_count": null,
   "metadata": {},
   "outputs": [],
   "source": [
    "# Read all images/frames into memory \n",
    "frames2 = []\n",
    "\n",
    "all_files = os.listdir(config.path_to_write2)\n",
    "all_files_GSW = [fn for fn in all_files if fn.startswith(config.GSW_fn) and fn.endswith(config.image_type)]\n",
    "len(all_files_GSW)\n",
    "print(all_files_GSW)\n",
    "for i, fn in enumerate(all_files_GSW):\n",
    "    GSW_img = rasterio.open(os.path.join(config.path_to_write2, fn))\n",
    "    read_GSW_img = GSW_img.read()\n",
    "    comb_img = np.transpose(read_GSW_img, axes=(1,2,0)) \n",
    "    \n",
    "    annotation_im = Image.open(os.path.join(config.path_to_write2, fn.replace(config.GSW_fn,config.annotation_fn)))\n",
    "    annotation = np.array(annotation_im)\n",
    "    f = FrameInfo(comb_img, annotation)\n",
    "    frames2.append(f)\n",
    "\n",
    "frames_12=frames1+frames2\n",
    "print(len(frames_12))\n",
    "\n",
    "training_frames2, validation_frames2, testing_frames2  = split_dataset2(frames1,frames_12,config.frames_json2, config.patch_dir)"
   ]
  },
  {
   "cell_type": "code",
   "execution_count": null,
   "metadata": {},
   "outputs": [],
   "source": [
    "# Read all images/frames into memory \n",
    "frames3 = []\n",
    "\n",
    "all_files = os.listdir(config.path_to_write3)\n",
    "all_files_GSW = [fn for fn in all_files if fn.startswith(config.GSW_fn) and fn.endswith(config.image_type)]\n",
    "len(all_files_GSW)\n",
    "print(all_files_GSW)\n",
    "for i, fn in enumerate(all_files_GSW):\n",
    "    GSW_img = rasterio.open(os.path.join(config.path_to_write3, fn))\n",
    "    read_GSW_img = GSW_img.read()\n",
    "    comb_img = np.transpose(read_GSW_img, axes=(1,2,0)) \n",
    "    \n",
    "    annotation_im = Image.open(os.path.join(config.path_to_write3, fn.replace(config.GSW_fn,config.annotation_fn)))\n",
    "    annotation = np.array(annotation_im)\n",
    "    f = FrameInfo(comb_img, annotation)\n",
    "    frames3.append(f)\n",
    "\n",
    "frames_123=frames1+frames2+frames3\n",
    "print(len(frames_123))\n",
    "\n",
    "training_frames3, validation_frames3, testing_frames3  = split_dataset3(frames_12,frames_123, config.frames_json3, config.patch_dir)"
   ]
  },
  {
   "cell_type": "code",
   "execution_count": null,
   "metadata": {},
   "outputs": [],
   "source": [
    "# Read all images/frames into memory  \n",
    "frames4 = []\n",
    "\n",
    "all_files = os.listdir(config.path_to_write4)\n",
    "all_files_GSW = [fn for fn in all_files if fn.startswith(config.GSW_fn) and fn.endswith(config.image_type)]\n",
    "len(all_files_GSW)\n",
    "print(all_files_GSW)\n",
    "for i, fn in enumerate(all_files_GSW):\n",
    "    GSW_img = rasterio.open(os.path.join(config.path_to_write4, fn))\n",
    "    read_GSW_img = GSW_img.read()\n",
    "    comb_img = np.transpose(read_GSW_img, axes=(1,2,0)) \n",
    "    \n",
    "    annotation_im = Image.open(os.path.join(config.path_to_write4, fn.replace(config.GSW_fn,config.annotation_fn)))\n",
    "    annotation = np.array(annotation_im)\n",
    "    f = FrameInfo(comb_img, annotation)\n",
    "    frames4.append(f)\n",
    "    \n",
    "frames_1234=frames1+frames2+frames3+frames4\n",
    "print(len(frames_1234))\n",
    "\n",
    "training_frames4, validation_frames4, testing_frames4  = split_dataset4(frames_123,frames_1234, config.frames_json4, config.patch_dir)"
   ]
  },
  {
   "cell_type": "code",
   "execution_count": null,
   "metadata": {},
   "outputs": [],
   "source": [
    "training_frames=training_frames1+training_frames2+training_frames3+training_frames4\n",
    "validation_frames=validation_frames1+validation_frames2+validation_frames3+validation_frames4\n",
    "testing_frames=testing_frames1+testing_frames2+testing_frames3+testing_frames4\n",
    "\n",
    "annotation_channels = config.input_label_channel\n",
    "\n",
    "train_generator = DataGenerator(config.input_image_channel, config.patch_size, training_frames, frames_1234, annotation_channels, augmenter = 'iaa').random_generator(config.BATCH_SIZE, normalize = config.normalize)\n",
    "val_generator = DataGenerator(config.input_image_channel, config.patch_size, validation_frames, frames_1234, annotation_channels, augmenter= None).random_generator(config.BATCH_SIZE, normalize = config.normalize)\n",
    "test_generator = DataGenerator(config.input_image_channel, config.patch_size, testing_frames, frames_1234, annotation_channels, augmenter= None).random_generator(config.BATCH_SIZE, normalize = config.normalize)"
   ]
  },
  {
   "cell_type": "code",
   "execution_count": null,
   "metadata": {},
   "outputs": [],
   "source": [
    "for _ in range(1):\n",
    "    train_images, real_label = next(train_generator) \n",
    "    display_images(np.concatenate((train_images,real_label), axis = -1))"
   ]
  },
  {
   "cell_type": "code",
   "execution_count": null,
   "metadata": {},
   "outputs": [],
   "source": [
    "OPTIMIZER = adaDelta \n",
    "OPTIMIZER = tf.train.experimental.enable_mixed_precision_graph_rewrite(OPTIMIZER)\n",
    "# OPTIMIZER=mixed_precision.LossScaleOptimizer(OPTIMIZER, loss_scale='dynamic')#tf.keras.mixed_precision.experimental.LossScaleOptimizer///tf.keras.mixed_precision.LossScaleOptimizer\n",
    "#Wraps the original optimizer in a LossScaleOptimizer\n",
    "LOSS = tversky \n",
    "# OPTIMIZER.minimize(LOSS)## 'minimize' applies loss scaling to the loss and updates the loss sale.\n",
    "\n",
    "#Only for the name of the model in the very end\n",
    "OPTIMIZER_NAME = 'AdaDelta'\n",
    "LOSS_NAME = 'weightmap_tversky'\n",
    "\n",
    "# Declare the path to the final model\n",
    "# If you want to retrain an exising model then change the cell where model is declared. \n",
    "# This path is for storing a model after training.\n",
    "timestr = time.strftime(\"%Y%m%d-%H%M\")\n",
    "chf = config.input_image_channel + config.input_label_channel\n",
    "chs = reduce(lambda a,b: a+str(b), chf, '') \n",
    "\n",
    "if not os.path.exists(config.model_path):\n",
    "    os.makedirs(config.model_path)\n",
    "model_path = os.path.join(config.model_path,'lakes_{}_{}_{}_{}_{}.h5'.format(timestr,OPTIMIZER_NAME,LOSS_NAME,chs,config.input_shape[0]))\n",
    "print(model_path)"
   ]
  },
  {
   "cell_type": "code",
   "execution_count": null,
   "metadata": {},
   "outputs": [],
   "source": [
    "# Define the model and compile it  \n",
    "model = UNet([config.BATCH_SIZE, *config.input_shape],config.input_label_channel)\n",
    "model.compile(optimizer=OPTIMIZER, loss=LOSS, metrics=[dice_coef, dice_loss, specificity, sensitivity, accuracy,mIoU])"
   ]
  },
  {
   "cell_type": "code",
   "execution_count": null,
   "metadata": {},
   "outputs": [],
   "source": [
    "# Define callbacks      for the early stopping of training, LearningRateScheduler and model checkpointing \n",
    "from tensorflow.keras.callbacks import ModelCheckpoint, LearningRateScheduler, EarlyStopping, ReduceLROnPlateau, TensorBoard\n",
    "\n",
    "checkpoint = ModelCheckpoint(model_path, monitor='val_loss', verbose=1, \n",
    "                             save_best_only=True, mode='min', save_weights_only = False)\n",
    "\n",
    "#reduceonplatea： It can be useful when using adam as optimizer\n",
    "#Reduce learning rate when a metric has stopped improving (after some patience 个epoch, reduce by a factor of 0.33, new_lr = lr * factor). \n",
    "#cooldown: number of epochs to wait before resuming normal operation after lr has been reduced. \n",
    "\n",
    "reduceLROnPlat = ReduceLROnPlateau(monitor='val_loss', factor=0.33,\n",
    "                                   patience=4, verbose=1, mode='min',\n",
    "                                   min_delta=0.0001, cooldown=4, min_lr=1e-16) \n",
    "\n",
    "early = EarlyStopping(monitor=\"val_loss\", mode=\"min\", verbose=2, patience=100)\n",
    "\n",
    "\n",
    "log_dir = os.path.join('./logs','UNet_{}_{}_{}_{}_{}'.format(timestr,OPTIMIZER_NAME,LOSS_NAME,chs, config.input_shape[0]))\n",
    "tensorboard = TensorBoard(log_dir=log_dir, histogram_freq=0, write_graph=True, write_grads=False, write_images=False, embeddings_freq=0, embeddings_layer_names=None, embeddings_metadata=None, embeddings_data=None, update_freq='epoch')\n",
    "\n",
    "callbacks_list = [checkpoint, tensorboard, early] #reduceLROnPlat is not required with adaDelta"
   ]
  },
  {
   "cell_type": "code",
   "execution_count": null,
   "metadata": {},
   "outputs": [],
   "source": [
    "loss_history = model.fit(train_generator, \n",
    "                         steps_per_epoch=config.MAX_TRAIN_STEPS,\n",
    "                         epochs=config.NB_EPOCHS, \n",
    "                         validation_data=val_generator,\n",
    "                         validation_steps=config.VALID_IMG_COUNT,\n",
    "                         callbacks=callbacks_list,\n",
    "                         workers=1,\n",
    "#                          use_multiprocessing=True # the generator is not very thread safe \n",
    "                         #max_queue_size = 60,\n",
    "                        )"
   ]
  },
  {
   "cell_type": "code",
   "execution_count": null,
   "metadata": {},
   "outputs": [],
   "source": [
    "# Load model after training \n",
    "# If you load a model with different python version, than you may run into a problem: https://github.com/keras-team/keras/issues/9595#issue-303471777\n",
    "model = load_model(model_path, custom_objects={'tversky': LOSS, 'dice_coef': dice_coef, 'dice_loss':dice_loss, 'accuracy':accuracy ,'mIoU': mIoU,'specificity': specificity, 'sensitivity':sensitivity}, compile=False) \n",
    "\n",
    "# # In case you want to use multiple GPU you can uncomment the following lines.\n",
    "# strategy = tf.distribute.MirroredStrategy(devices=[\"/gpu:0\", \"/gpu:1\"], cross_device_ops=tf.distribute.ReductionToOneDevice())\n",
    "# print('Number of devices: %d' % strategy.num_replicas_in_sync)\n",
    "\n",
    "model.compile(optimizer=OPTIMIZER, loss=LOSS, metrics=[dice_coef, dice_loss, accuracy,mIoU, specificity, sensitivity])"
   ]
  },
  {
   "cell_type": "code",
   "execution_count": null,
   "metadata": {},
   "outputs": [],
   "source": [
    "# Print one batch on the training/test data! \n",
    "for i in range(1):\n",
    "    test_images, real_label = next(test_generator)\n",
    "    #3 images per row: GSW, label, prediction\n",
    "    prediction = model.predict(test_images, steps=1)\n",
    "    prediction[prediction>0.5]=1\n",
    "    prediction[prediction<=0.5]=0\n",
    "    display_images(np.concatenate((test_images, real_label, prediction), axis = -1))# test_images( GSW), real_label(label), prediction"
   ]
  }
 ],
 "metadata": {
  "accelerator": "GPU",
  "colab": {
   "authorship_tag": "ABX9TyOeYCBzQRMr8FXNUC8za+ng",
   "collapsed_sections": [],
   "name": "step3-Training.ipynb",
   "provenance": []
  },
  "kernelspec": {
   "display_name": "Python 3 (ipykernel)",
   "language": "python",
   "name": "python3"
  },
  "language_info": {
   "codemirror_mode": {
    "name": "ipython",
    "version": 3
   },
   "file_extension": ".py",
   "mimetype": "text/x-python",
   "name": "python",
   "nbconvert_exporter": "python",
   "pygments_lexer": "ipython3",
   "version": "3.7.6"
  },
  "toc-autonumbering": false
 },
 "nbformat": 4,
 "nbformat_minor": 4
}
