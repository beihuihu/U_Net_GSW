{
 "cells": [
  {
   "cell_type": "markdown",
   "metadata": {},
   "source": [
    "  Author: Ankit Kariryaa, University of Bremen\n",
    "  \n",
    "  Modified by Xuehui Pi and Qiuqi Luo\n",
    "\n"
   ]
  },
  {
   "cell_type": "code",
   "execution_count": 1,
   "metadata": {},
   "outputs": [
    {
     "name": "stderr",
     "output_type": "stream",
     "text": [
      "2024-02-02 13:42:36.031444: I tensorflow/stream_executor/platform/default/dso_loader.cc:49] Successfully opened dynamic library libcudart.so.11.0\n"
     ]
    },
    {
     "name": "stdout",
     "output_type": "stream",
     "text": [
      "2.4.1\n"
     ]
    }
   ],
   "source": [
    "from tensorflow.keras.models import load_model\n",
    "import numpy as np               # numerical array manipulation\n",
    "import pandas as pd\n",
    "import geopandas as gps\n",
    "import os\n",
    "# os.environ[\"CUDA_VISIBLE_DEVICES\"] = \"1\"\n",
    "import time\n",
    "from collections import defaultdict\n",
    "from functools import reduce\n",
    "from PIL import Image\n",
    "import rasterio                  # I/O raster data (netcdf, height, geotiff, ...)\n",
    "import rasterio.warp             # Reproject raster samples\n",
    "from shapely.geometry import Point, Polygon\n",
    "from shapely.geometry import mapping, shape\n",
    "import fiona\n",
    "import cv2\n",
    "from tqdm import tqdm\n",
    "import rasterio.mask\n",
    "import affine\n",
    "\n",
    "from core.UNet import UNet\n",
    "from core.losses import tversky, accuracy, dice_coef, dice_loss, IoU, recall,F1_score, precision\n",
    "from core.optimizers import adaDelta, adagrad, adam, nadam\n",
    "from core.frame_info import FrameInfo\n",
    "from core.dataset_generator import DataGenerator\n",
    "from core.visualize import display_images\n",
    "\n",
    "%matplotlib inline\n",
    "import matplotlib.pyplot as plt  # plotting tools\n",
    "import matplotlib.patches as patches\n",
    "import random\n",
    "import warnings                  # ignore annoying warnings\n",
    "warnings.filterwarnings(\"ignore\")\n",
    "import logging\n",
    "logger = logging.getLogger()\n",
    "logger.setLevel(logging.CRITICAL)\n",
    "\n",
    "%reload_ext autoreload\n",
    "%autoreload 2\n",
    "from IPython.core.interactiveshell import InteractiveShell\n",
    "InteractiveShell.ast_node_interactivity = \"all\"\n",
    "\n",
    "os.environ['TF_ENABLE_AUTO_MIXED_PRECISION'] = '1'\n",
    "\n",
    "import tensorflow as tf\n",
    "print(tf.__version__)"
   ]
  },
  {
   "cell_type": "code",
   "execution_count": 2,
   "metadata": {},
   "outputs": [
    {
     "name": "stderr",
     "output_type": "stream",
     "text": [
      "2024-02-02 13:42:38.142383: I tensorflow/core/platform/cpu_feature_guard.cc:142] This TensorFlow binary is optimized with oneAPI Deep Neural Network Library (oneDNN) to use the following CPU instructions in performance-critical operations:  AVX2 AVX512F FMA\n",
      "To enable them in other operations, rebuild TensorFlow with the appropriate compiler flags.\n",
      "2024-02-02 13:42:38.144478: I tensorflow/compiler/jit/xla_gpu_device.cc:99] Not creating XLA devices, tf_xla_enable_xla_devices not set\n",
      "2024-02-02 13:42:38.145848: I tensorflow/stream_executor/platform/default/dso_loader.cc:49] Successfully opened dynamic library libcuda.so.1\n",
      "2024-02-02 13:42:38.180311: I tensorflow/core/common_runtime/gpu/gpu_device.cc:1720] Found device 0 with properties: \n",
      "pciBusID: 0000:17:00.0 name: NVIDIA RTX A6000 computeCapability: 8.6\n",
      "coreClock: 1.8GHz coreCount: 84 deviceMemorySize: 47.53GiB deviceMemoryBandwidth: 715.34GiB/s\n",
      "2024-02-02 13:42:38.180373: I tensorflow/stream_executor/platform/default/dso_loader.cc:49] Successfully opened dynamic library libcudart.so.11.0\n",
      "2024-02-02 13:42:38.183647: I tensorflow/stream_executor/platform/default/dso_loader.cc:49] Successfully opened dynamic library libcublas.so.11\n",
      "2024-02-02 13:42:38.183801: I tensorflow/stream_executor/platform/default/dso_loader.cc:49] Successfully opened dynamic library libcublasLt.so.11\n",
      "2024-02-02 13:42:38.185145: I tensorflow/stream_executor/platform/default/dso_loader.cc:49] Successfully opened dynamic library libcufft.so.10\n",
      "2024-02-02 13:42:38.186036: I tensorflow/stream_executor/platform/default/dso_loader.cc:49] Successfully opened dynamic library libcurand.so.10\n",
      "2024-02-02 13:42:38.189616: I tensorflow/stream_executor/platform/default/dso_loader.cc:49] Successfully opened dynamic library libcusolver.so.10\n",
      "2024-02-02 13:42:38.190458: I tensorflow/stream_executor/platform/default/dso_loader.cc:49] Successfully opened dynamic library libcusparse.so.11\n",
      "2024-02-02 13:42:38.190646: I tensorflow/stream_executor/platform/default/dso_loader.cc:49] Successfully opened dynamic library libcudnn.so.8\n",
      "2024-02-02 13:42:38.191025: I tensorflow/core/common_runtime/gpu/gpu_device.cc:1862] Adding visible gpu devices: 0\n",
      "2024-02-02 13:42:38.191061: I tensorflow/stream_executor/platform/default/dso_loader.cc:49] Successfully opened dynamic library libcudart.so.11.0\n",
      "2024-02-02 13:42:38.595652: I tensorflow/core/common_runtime/gpu/gpu_device.cc:1261] Device interconnect StreamExecutor with strength 1 edge matrix:\n",
      "2024-02-02 13:42:38.595681: I tensorflow/core/common_runtime/gpu/gpu_device.cc:1267]      0 \n",
      "2024-02-02 13:42:38.595686: I tensorflow/core/common_runtime/gpu/gpu_device.cc:1280] 0:   N \n",
      "2024-02-02 13:42:38.596255: I tensorflow/core/common_runtime/gpu/gpu_device.cc:1406] Created TensorFlow device (/job:localhost/replica:0/task:0/device:GPU:0 with 35524 MB memory) -> physical GPU (device: 0, name: NVIDIA RTX A6000, pci bus id: 0000:17:00.0, compute capability: 8.6)\n"
     ]
    }
   ],
   "source": [
    "from tensorflow.compat.v1 import ConfigProto\n",
    "from tensorflow.compat.v1 import InteractiveSession\n",
    "\n",
    "config = ConfigProto(\n",
    "    #device_count={\"CPU\": 64},\n",
    "    allow_soft_placement=True, \n",
    "    log_device_placement=False)\n",
    "config.gpu_options.allow_growth = True\n",
    "session = InteractiveSession(config=config)"
   ]
  },
  {
   "cell_type": "code",
   "execution_count": 3,
   "metadata": {},
   "outputs": [
    {
     "name": "stdout",
     "output_type": "stream",
     "text": [
      "Num GPUs Available:  1\n"
     ]
    },
    {
     "name": "stderr",
     "output_type": "stream",
     "text": [
      "2024-02-02 13:42:38.626397: I tensorflow/compiler/jit/xla_cpu_device.cc:41] Not creating XLA devices, tf_xla_enable_xla_devices not set\n",
      "2024-02-02 13:42:38.626754: I tensorflow/core/common_runtime/gpu/gpu_device.cc:1720] Found device 0 with properties: \n",
      "pciBusID: 0000:17:00.0 name: NVIDIA RTX A6000 computeCapability: 8.6\n",
      "coreClock: 1.8GHz coreCount: 84 deviceMemorySize: 47.53GiB deviceMemoryBandwidth: 715.34GiB/s\n",
      "2024-02-02 13:42:38.626790: I tensorflow/stream_executor/platform/default/dso_loader.cc:49] Successfully opened dynamic library libcudart.so.11.0\n",
      "2024-02-02 13:42:38.626867: I tensorflow/stream_executor/platform/default/dso_loader.cc:49] Successfully opened dynamic library libcublas.so.11\n",
      "2024-02-02 13:42:38.626878: I tensorflow/stream_executor/platform/default/dso_loader.cc:49] Successfully opened dynamic library libcublasLt.so.11\n",
      "2024-02-02 13:42:38.626889: I tensorflow/stream_executor/platform/default/dso_loader.cc:49] Successfully opened dynamic library libcufft.so.10\n",
      "2024-02-02 13:42:38.626900: I tensorflow/stream_executor/platform/default/dso_loader.cc:49] Successfully opened dynamic library libcurand.so.10\n",
      "2024-02-02 13:42:38.626910: I tensorflow/stream_executor/platform/default/dso_loader.cc:49] Successfully opened dynamic library libcusolver.so.10\n",
      "2024-02-02 13:42:38.626928: I tensorflow/stream_executor/platform/default/dso_loader.cc:49] Successfully opened dynamic library libcusparse.so.11\n",
      "2024-02-02 13:42:38.626939: I tensorflow/stream_executor/platform/default/dso_loader.cc:49] Successfully opened dynamic library libcudnn.so.8\n",
      "2024-02-02 13:42:38.627278: I tensorflow/core/common_runtime/gpu/gpu_device.cc:1862] Adding visible gpu devices: 0\n"
     ]
    }
   ],
   "source": [
    "print(\"Num GPUs Available: \", len(tf.config.experimental.list_physical_devices('GPU')))"
   ]
  },
  {
   "cell_type": "code",
   "execution_count": 4,
   "metadata": {
    "scrolled": true
   },
   "outputs": [
    {
     "name": "stdout",
     "output_type": "stream",
     "text": [
      "WARNING:tensorflow:From /tmp/ipykernel_313952/3785913470.py:38: enable_mixed_precision_graph_rewrite (from tensorflow.python.training.experimental.mixed_precision) is deprecated and will be removed after 2020-11-30.\n",
      "Instructions for updating:\n",
      "Use tf.keras.mixed_precision. There is a guide at https://www.tensorflow.org/guide/mixed_precision. Alternatively, `tf.compat.v1.mixed_precision.enable_mixed_precision_graph_rewrite` can be used, but this is not recommended for TF2 code.\n",
      "WARNING:tensorflow:You already have existing Sessions that do not use mixed precision. enable_mixed_precision_graph_rewrite() will not affect these Sessions.\n",
      "WARNING:tensorflow:tf.keras.mixed_precision.experimental.LossScaleOptimizer is deprecated. Please use tf.keras.mixed_precision.LossScaleOptimizer instead. For example\n",
      "  opt = tf.keras.mixed_precision.experimental.LossScaleOptimizer(opt)\n"
     ]
    },
    {
     "name": "stderr",
     "output_type": "stream",
     "text": [
      "2024-02-02 13:42:38.661692: I tensorflow/compiler/jit/xla_gpu_device.cc:99] Not creating XLA devices, tf_xla_enable_xla_devices not set\n",
      "2024-02-02 13:42:38.662044: I tensorflow/core/common_runtime/gpu/gpu_device.cc:1720] Found device 0 with properties: \n",
      "pciBusID: 0000:17:00.0 name: NVIDIA RTX A6000 computeCapability: 8.6\n",
      "coreClock: 1.8GHz coreCount: 84 deviceMemorySize: 47.53GiB deviceMemoryBandwidth: 715.34GiB/s\n",
      "2024-02-02 13:42:38.662077: I tensorflow/stream_executor/platform/default/dso_loader.cc:49] Successfully opened dynamic library libcudart.so.11.0\n",
      "2024-02-02 13:42:38.662147: I tensorflow/stream_executor/platform/default/dso_loader.cc:49] Successfully opened dynamic library libcublas.so.11\n",
      "2024-02-02 13:42:38.662158: I tensorflow/stream_executor/platform/default/dso_loader.cc:49] Successfully opened dynamic library libcublasLt.so.11\n",
      "2024-02-02 13:42:38.662169: I tensorflow/stream_executor/platform/default/dso_loader.cc:49] Successfully opened dynamic library libcufft.so.10\n",
      "2024-02-02 13:42:38.662179: I tensorflow/stream_executor/platform/default/dso_loader.cc:49] Successfully opened dynamic library libcurand.so.10\n",
      "2024-02-02 13:42:38.662189: I tensorflow/stream_executor/platform/default/dso_loader.cc:49] Successfully opened dynamic library libcusolver.so.10\n",
      "2024-02-02 13:42:38.662199: I tensorflow/stream_executor/platform/default/dso_loader.cc:49] Successfully opened dynamic library libcusparse.so.11\n",
      "2024-02-02 13:42:38.662209: I tensorflow/stream_executor/platform/default/dso_loader.cc:49] Successfully opened dynamic library libcudnn.so.8\n",
      "2024-02-02 13:42:38.662406: I tensorflow/core/common_runtime/gpu/gpu_device.cc:1862] Adding visible gpu devices: 0\n",
      "2024-02-02 13:42:38.662433: I tensorflow/core/common_runtime/gpu/gpu_device.cc:1261] Device interconnect StreamExecutor with strength 1 edge matrix:\n",
      "2024-02-02 13:42:38.662437: I tensorflow/core/common_runtime/gpu/gpu_device.cc:1267]      0 \n",
      "2024-02-02 13:42:38.662440: I tensorflow/core/common_runtime/gpu/gpu_device.cc:1280] 0:   N \n",
      "2024-02-02 13:42:38.662647: I tensorflow/core/common_runtime/gpu/gpu_device.cc:1406] Created TensorFlow device (/job:localhost/replica:0/task:0/device:GPU:0 with 35524 MB memory) -> physical GPU (device: 0, name: NVIDIA RTX A6000, pci bus id: 0000:17:00.0, compute capability: 8.6)\n"
     ]
    }
   ],
   "source": [
    "# Initialize the data related variables used in the notebook \n",
    "\n",
    "# For reading the GSW and annotated images generated in the step - 1\n",
    "\n",
    "base_dir = r'/home/nkd/hbh'\n",
    "type_num = 4\n",
    "image_type = '.tif'\n",
    "ann_type = '.png'\n",
    "# NDWI_fn = 'ndwi'\n",
    "# red_fn = 'red'\n",
    "# blue_fn = 'blue'\n",
    "# green_fn = 'green'\n",
    "# swir_fn = 'swir'\n",
    "annotation_fn = 'annotation'\n",
    "image_fn = 'image'\n",
    "# For testing, images are divided into sequential patches \n",
    "patch_generation_stratergy = 'sequential'\n",
    "patch_size = (576,576,6) ## Height * Width * (Input or Output) channels：[GSW, ANNOTATION]\n",
    "BATCH_SIZE = 16 # Model is evaluated in batches; See https://keras.io/models/model/\n",
    "\n",
    "# # When stratergy == sequential\n",
    "step_size = (576,576)\n",
    "\n",
    "# input_shape = (512,512,5)\n",
    "# input_image_channel = [0,1,2,3,4]\n",
    "# input_label_channel = [5]\n",
    "\n",
    "# input_shape = (512,512,2)\n",
    "# input_image_channel = [0,1]\n",
    "# input_label_channel = [2]\n",
    "\n",
    "input_shape = (576,576,5)\n",
    "input_image_channel = [0,1,2,3,4]\n",
    "input_label_channel = [5]\n",
    "\n",
    "OPTIMIZER_NAME = 'adaDelta'\n",
    "OPTIMIZER = adaDelta \n",
    "OPTIMIZER=tf.train.experimental.enable_mixed_precision_graph_rewrite(OPTIMIZER)"
   ]
  },
  {
   "cell_type": "code",
   "execution_count": 28,
   "metadata": {},
   "outputs": [],
   "source": [
    "LOSS = dice_loss\n",
    "# LOSS=tf.keras.losses.BinaryCrossentropy()\n",
    "# LOSS_NAME = 'tversky'\n",
    "LOSS_NAME = 'dice_loss'\n",
    "# modelToEvaluate = os.path.join(base_dir, r'saved_models\\UNet\\lakes_20230818-2031_AdaDelta_dice_loss_b5_012345_512.h5')\n",
    "# modelToEvaluate = os.path.join(base_dir, '5_saved_models/lakes_20240130-2243_AdaDelta_dice_loss_012345_576_epoch88.h5')\n",
    "modelToEvaluate = os.path.join(base_dir, '5_saved_models/lakes_20240121-1616_AdaDelta_dice_loss_012345_576.h5')\n",
    "# modelToEvaluate = os.path.join(base_dir, '5_saved_models/lakes_20240129-1806_AdaDelta_dice_loss_012345_576.h5')"
   ]
  },
  {
   "cell_type": "code",
   "execution_count": 29,
   "metadata": {},
   "outputs": [
    {
     "name": "stdout",
     "output_type": "stream",
     "text": [
      "/home/nkd/hbh/evaluationreport/evaluation_per_pixel20240203-1243_012345.csv\n"
     ]
    }
   ],
   "source": [
    "#File path for final report \n",
    "timestr = time.strftime(\"%Y%m%d-%H%M\")\n",
    "chf = input_image_channel + input_label_channel\n",
    "chs = reduce(lambda a,b: a+str(b),   chf, '')\n",
    "evaluation_report_path = model_path =  os.path.join(base_dir, 'evaluationreport') \n",
    "if not os.path.exists(evaluation_report_path):\n",
    "    os.makedirs(evaluation_report_path)\n",
    "evaluation_report_filename = os.path.join(evaluation_report_path,'evaluation_per_pixel{}_{}.csv'.format(timestr,chs))\n",
    "print(evaluation_report_filename) "
   ]
  },
  {
   "cell_type": "code",
   "execution_count": 14,
   "metadata": {},
   "outputs": [],
   "source": [
    "def readImgs(path_to_write, fn):\n",
    "    image = rasterio.open(os.path.join(path_to_write, fn))\n",
    "#     print(fn)\n",
    "    read_image = image.read()/1000\n",
    "#     print(read_image[1].max())\n",
    "    \n",
    "    comb_img = np.transpose(read_image, axes=(1,2,0))\n",
    "    annotation_im = Image.open(os.path.join(path_to_write, fn.replace(image_fn,annotation_fn).replace(image_type,ann_type)))\n",
    "    annotation = np.array(annotation_im)\n",
    "    f = FrameInfo(comb_img, annotation)\n",
    "    return f\n",
    "    \n",
    "def readFrames(dataType):\n",
    "    frames=[]\n",
    "    numList=[]\n",
    "    print(dataType)\n",
    "#     for i in range(3,4):\n",
    "    for i in range(0,type_num):#config.type_num\n",
    "        path_to_write=os.path.join(base_dir,'patchesReshape/{}/type{}'.format(dataType,i))\n",
    "        all_files = os.listdir(path_to_write)\n",
    "        all_files_image = [fn for fn in all_files if fn.startswith(image_fn) and fn.endswith(image_type)]#image.png\n",
    "        print('type{} image number:{}'.format(i,len(all_files_image)))\n",
    "        for j, fn in enumerate(all_files_image):\n",
    "            f= readImgs(path_to_write,fn)\n",
    "            frames.append(f)\n",
    "    return frames\n"
   ]
  },
  {
   "cell_type": "code",
   "execution_count": 15,
   "metadata": {
    "scrolled": true,
    "tags": []
   },
   "outputs": [
    {
     "name": "stdout",
     "output_type": "stream",
     "text": [
      "test\n",
      "type0 image number:59\n",
      "type1 image number:52\n",
      "type2 image number:23\n",
      "type3 image number:24\n",
      "test patchs number: 3217\n"
     ]
    }
   ],
   "source": [
    "frames=readFrames('test')\n",
    "test_patches = DataGenerator(input_image_channel,patch_size, frames, input_label_channel, augmenter = None).all_sequential_patches(step_size)\n",
    "print('test patchs number:',len(test_patches[0]))"
   ]
  },
  {
   "cell_type": "code",
   "execution_count": 30,
   "metadata": {},
   "outputs": [
    {
     "name": "stdout",
     "output_type": "stream",
     "text": [
      "/home/nkd/hbh/5_saved_models/lakes_20240121-1616_AdaDelta_dice_loss_012345_576.h5 /home/nkd/hbh/evaluationreport/evaluation_per_pixel20240203-1243_012345.csv\n",
      "Evaluating model now!\n"
     ]
    },
    {
     "name": "stderr",
     "output_type": "stream",
     "text": [
      "2024-02-03 12:44:29.715952: I tensorflow/core/grappler/optimizers/auto_mixed_precision.cc:1960] Converted 0/414 nodes to float16 precision using 0 cast(s) to float16 (excluding Const and Variable casts)\n",
      "2024-02-03 12:44:29.753148: I tensorflow/core/grappler/optimizers/auto_mixed_precision.cc:1960] Converted 0/397 nodes to float16 precision using 0 cast(s) to float16 (excluding Const and Variable casts)\n"
     ]
    },
    {
     "name": "stdout",
     "output_type": "stream",
     "text": [
      "101/101 [==============================] - 46s 442ms/step - loss: 0.0807 - dice_loss: 0.0807 - accuracy: 0.9967 - recall: 0.9050 - precision: 0.9467 - F1_score: 0.9194 - IoU: 0.8599\n"
     ]
    }
   ],
   "source": [
    "#Evaluate model \n",
    "\n",
    "def evaluate_model(model_path, evaluation_report_filename):\n",
    "    print(model_path, evaluation_report_filename)\n",
    "    model = load_model(model_path, custom_objects={'dice_loss':dice_loss, 'accuracy':accuracy , 'recall':recall, 'precision':precision,'IoU':IoU}, compile=False)\n",
    "    model.compile(optimizer=OPTIMIZER, loss=LOSS, metrics=[dice_loss, accuracy,recall,precision,F1_score,IoU])\n",
    "    \n",
    "    print('Evaluating model now!')\n",
    "    ev = model.evaluate(test_patches[0], test_patches[1],  verbose=1, use_multiprocessing=False)\n",
    "    report  = dict(zip(model.metrics_names, ev))\n",
    "    report['model_path'] =  model_path   \n",
    "    report['test_frame_dir']= base_dir   \n",
    "    report['total_patch_count']= len(test_patches[0])  \n",
    "    return report\n",
    "\n",
    "report = evaluate_model(modelToEvaluate, evaluation_report_filename)"
   ]
  },
  {
   "cell_type": "code",
   "execution_count": 31,
   "metadata": {},
   "outputs": [
    {
     "name": "stdout",
     "output_type": "stream",
     "text": [
      "{'loss': 0.07715071737766266, 'dice_loss': 0.07706941664218903, 'accuracy': 0.996870219707489, 'recall': 0.9251459836959839, 'precision': 0.9307335615158081, 'F1_score': 0.9230759739875793, 'IoU': 0.8660451173782349, 'model_path': '/home/nkd/hbh/5_saved_models/lakes_20240121-1616_AdaDelta_dice_loss_012345_576.h5', 'test_frame_dir': '/home/nkd/hbh', 'total_patch_count': 3217}\n",
      "Index(['loss', 'dice_loss', 'accuracy', 'recall', 'precision', 'F1_score',\n",
      "       'IoU', 'model_path', 'test_frame_dir', 'total_patch_count'],\n",
      "      dtype='object')\n"
     ]
    }
   ],
   "source": [
    "# Generate the final report\n",
    "print(report)\n",
    "\n",
    "tdf = pd.DataFrame(report, index=[0])  \n",
    "print(tdf.columns)\n",
    "col_beginning = ['model_path','test_frame_dir', 'total_patch_count', 'accuracy', 'recall','precision','IoU']\n",
    "\n",
    "col_rest = [x for x in tdf.columns.tolist() if x not in col_beginning]\n",
    "cols = col_beginning + col_rest\n",
    "tdf = tdf[cols]\n",
    "tdf.to_csv(evaluation_report_filename)"
   ]
  },
  {
   "cell_type": "code",
   "execution_count": 32,
   "metadata": {},
   "outputs": [
    {
     "name": "stdout",
     "output_type": "stream",
     "text": [
      "type0 patches number:1154\n"
     ]
    },
    {
     "name": "stderr",
     "output_type": "stream",
     "text": [
      "2024-02-03 12:48:52.030197: I tensorflow/core/grappler/optimizers/auto_mixed_precision.cc:1960] Converted 0/414 nodes to float16 precision using 0 cast(s) to float16 (excluding Const and Variable casts)\n",
      "2024-02-03 12:48:52.067121: I tensorflow/core/grappler/optimizers/auto_mixed_precision.cc:1960] Converted 0/397 nodes to float16 precision using 0 cast(s) to float16 (excluding Const and Variable casts)\n"
     ]
    },
    {
     "name": "stdout",
     "output_type": "stream",
     "text": [
      "37/37 [==============================] - 16s 418ms/step - loss: 0.0818 - dice_loss: 0.0817 - accuracy: 0.9971 - recall: 0.8872 - precision: 0.9670 - F1_score: 0.9184 - IoU: 0.8583\n",
      "type1 patches number:956\n",
      "30/30 [==============================] - 13s 433ms/step - loss: 0.1028 - dice_loss: 0.1025 - accuracy: 0.9949 - recall: 0.9013 - precision: 0.9064 - F1_score: 0.8976 - IoU: 0.8270\n",
      "type2 patches number:419\n",
      "14/14 [==============================] - 6s 402ms/step - loss: 0.0913 - dice_loss: 0.0893 - accuracy: 0.9985 - recall: 0.9249 - precision: 0.9034 - F1_score: 0.9107 - IoU: 0.8416\n",
      "type3 patches number:688\n",
      "22/22 [==============================] - 10s 451ms/step - loss: 0.0557 - dice_loss: 0.0564 - accuracy: 0.9977 - recall: 0.9618 - precision: 0.9338 - F1_score: 0.9441 - IoU: 0.9009\n"
     ]
    }
   ],
   "source": [
    "model = load_model(modelToEvaluate, custom_objects={'dice_loss':dice_loss, 'accuracy':accuracy , 'recall':recall, 'precision':precision,'IoU':IoU}, compile=False)\n",
    "model.compile(optimizer=OPTIMIZER, loss=LOSS, metrics=[dice_loss, accuracy,recall,precision,F1_score,IoU])\n",
    "ev_list=[]\n",
    "for i in range(0,type_num):\n",
    "    frames=[]\n",
    "    test_patchs_type=[]\n",
    "    path_to_write=os.path.join(base_dir,'patchesReshape/test/type{}'.format(i))\n",
    "    all_files = os.listdir(path_to_write)\n",
    "    all_files_NDWI = [fn for fn in all_files if fn.startswith(image_fn) and fn.endswith(image_type)]#ndwi.png\n",
    "    for j, fn in enumerate(all_files_NDWI):\n",
    "        f= readImgs(path_to_write,fn)\n",
    "        frames.append(f)\n",
    "    test_patchs_type = DataGenerator(input_image_channel,patch_size, frames, input_label_channel, augmenter = None).all_sequential_patches(step_size)\n",
    "    print('type{} patches number:{}'.format(i,len(test_patchs_type[0])))\n",
    "    ev2 = model.evaluate(test_patchs_type[0],test_patchs_type[1],verbose=1, use_multiprocessing=False)\n",
    "    ev2.append(len(test_patchs_type[0]))\n",
    "    ev_list.append(ev2)\n",
    "    del frames,test_patchs_type"
   ]
  },
  {
   "cell_type": "code",
   "execution_count": 33,
   "metadata": {},
   "outputs": [
    {
     "name": "stdout",
     "output_type": "stream",
     "text": [
      "      patch_num   loss accuracy   recall  precision F1_score     IoU\n",
      "type0:  1154     0.061    0.997    0.923     0.965     0.940     0.892  \n",
      "type1:   956     0.103    0.995    0.901     0.906     0.898     0.827  \n",
      "type2:   419     0.091    0.998    0.925     0.903     0.911     0.842  \n",
      "type3:   688     0.056    0.998    0.962     0.934     0.944     0.901  \n"
     ]
    }
   ],
   "source": [
    "#old\n",
    "print('      patch_num   loss accuracy   recall  precision F1_score     IoU')\n",
    "# print('total:{:^9}{:^9.3f}{:^9.3f}{:^9.3f} {:^9.3f} {:^9.3f} {:^9.3f}'.format(ev[7],ev[0],ev[2],ev[3],ev[4],ev[5],ev[6]))\n",
    "for i in range(0,type_num):\n",
    "    print('type{}:{:^9}{:^9.3f}{:^9.3f}{:^9.3f} {:^9.3f} {:^9.3f} {:^9.3f}'.format(i,ev_list[i][7],ev_list[i][0],ev_list[i][2],ev_list[i][3],ev_list[i][4],ev_list[i][5],ev_list[i][6]))"
   ]
  },
  {
   "cell_type": "code",
   "execution_count": 19,
   "metadata": {},
   "outputs": [
    {
     "name": "stdout",
     "output_type": "stream",
     "text": [
      "      patch_num   loss accuracy   recall  precision F1_score     IoU\n",
      "type0:  1154     0.068    0.997    0.915     0.964     0.934     0.883  \n",
      "type1:   956     0.100    0.995    0.911     0.901     0.900     0.829  \n",
      "type2:   419     0.073    0.999    0.936     0.921     0.927     0.867  \n",
      "type3:   688     0.050    0.998    0.958     0.942     0.949     0.905  \n"
     ]
    }
   ],
   "source": [
    "#epoch133\n",
    "print('      patch_num   loss accuracy   recall  precision F1_score     IoU')\n",
    "# print('total:{:^9}{:^9.3f}{:^9.3f}{:^9.3f} {:^9.3f} {:^9.3f} {:^9.3f}'.format(ev[7],ev[0],ev[2],ev[3],ev[4],ev[5],ev[6]))\n",
    "for i in range(0,type_num):\n",
    "    print('type{}:{:^9}{:^9.3f}{:^9.3f}{:^9.3f} {:^9.3f} {:^9.3f} {:^9.3f}'.format(i,ev_list[i][7],ev_list[i][0],ev_list[i][2],ev_list[i][3],ev_list[i][4],ev_list[i][5],ev_list[i][6]))"
   ]
  },
  {
   "cell_type": "code",
   "execution_count": 11,
   "metadata": {},
   "outputs": [
    {
     "name": "stdout",
     "output_type": "stream",
     "text": [
      "      patch_num   loss accuracy   recall  precision F1_score     IoU\n",
      "type0:  1154     0.070    0.997    0.920     0.957     0.931     0.882  \n",
      "type1:   956     0.110    0.994    0.914     0.888     0.890     0.817  \n",
      "type2:   419     0.073    0.999    0.953     0.907     0.928     0.868  \n",
      "type3:   688     0.049    0.998    0.952     0.949     0.950     0.906  \n"
     ]
    }
   ],
   "source": [
    "#epoch140\n",
    "print('      patch_num   loss accuracy   recall  precision F1_score     IoU')\n",
    "# print('total:{:^9}{:^9.3f}{:^9.3f}{:^9.3f} {:^9.3f} {:^9.3f} {:^9.3f}'.format(ev[7],ev[0],ev[2],ev[3],ev[4],ev[5],ev[6]))\n",
    "for i in range(0,type_num):\n",
    "    print('type{}:{:^9}{:^9.3f}{:^9.3f}{:^9.3f} {:^9.3f} {:^9.3f} {:^9.3f}'.format(i,ev_list[i][7],ev_list[i][0],ev_list[i][2],ev_list[i][3],ev_list[i][4],ev_list[i][5],ev_list[i][6]))"
   ]
  },
  {
   "cell_type": "code",
   "execution_count": null,
   "metadata": {},
   "outputs": [],
   "source": []
  }
 ],
 "metadata": {
  "kernelspec": {
   "display_name": "hbh_env",
   "language": "python",
   "name": "hbh_env"
  },
  "language_info": {
   "codemirror_mode": {
    "name": "ipython",
    "version": 3
   },
   "file_extension": ".py",
   "mimetype": "text/x-python",
   "name": "python",
   "nbconvert_exporter": "python",
   "pygments_lexer": "ipython3",
   "version": "3.8.13"
  }
 },
 "nbformat": 4,
 "nbformat_minor": 4
}
